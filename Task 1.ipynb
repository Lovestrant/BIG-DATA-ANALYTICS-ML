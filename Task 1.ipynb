{
 "cells": [
  {
   "cell_type": "code",
   "execution_count": 8,
   "id": "c8e5319e",
   "metadata": {},
   "outputs": [
    {
     "name": "stderr",
     "output_type": "stream",
     "text": [
      "[Stage 14:===========================================>              (3 + 1) / 4]\r"
     ]
    },
    {
     "name": "stdout",
     "output_type": "stream",
     "text": [
      "+--------+-------------------+\n",
      "|Dst Port|FIN_Flag_Percentage|\n",
      "+--------+-------------------+\n",
      "|   57868|                0.0|\n",
      "|   35640|                0.0|\n",
      "|   51946|                0.0|\n",
      "|   37796|                0.0|\n",
      "|   43044|                0.0|\n",
      "|   34622|                0.0|\n",
      "|   57048|                0.0|\n",
      "|   54580|                0.0|\n",
      "|   52996|                0.0|\n",
      "|   37806|                0.0|\n",
      "|   40090|                0.0|\n",
      "|   35792|                0.0|\n",
      "|   46664|                0.0|\n",
      "|   60042|                0.0|\n",
      "|   37128|                0.0|\n",
      "|   44656|                0.0|\n",
      "|   49978|                0.0|\n",
      "|   50214|                0.0|\n",
      "|   53624|                0.0|\n",
      "|   56400|                0.0|\n",
      "+--------+-------------------+\n",
      "only showing top 20 rows\n",
      "\n"
     ]
    },
    {
     "name": "stderr",
     "output_type": "stream",
     "text": [
      "\r",
      "                                                                                \r"
     ]
    }
   ],
   "source": [
    "# TASK 1\n",
    "# Big Data Query & Analysis using Spark SQL [30 marks]\n",
    "\n",
    "\n",
    "from pyspark.sql import SparkSession\n",
    "\n",
    "# create a SparkSession object\n",
    "spark = SparkSession.builder.appName(\"my_app\").getOrCreate()\n",
    "\n",
    "# load your data into a DataFrame\n",
    "df = spark.read.format(\"csv\").option(\"header\", True).load(\"data.csv\")\n",
    "\n",
    "# create a temporary view of the DataFrame\n",
    "df.createOrReplaceTempView(\"my_table\")\n",
    "\n",
    "# run a SQL query against the view\n",
    "sql = \"SELECT `Dst Port`, (COUNT(CASE WHEN `FIN Flag Cnt` >= 2 THEN 1 END) / COUNT(*) * 100) AS FIN_Flag_Percentage FROM my_table GROUP BY `Dst Port` ORDER BY FIN_Flag_Percentage DESC\"\n",
    "result = spark.sql(sql)\n",
    "\n",
    "# display the result\n",
    "result.show()\n"
   ]
  },
  {
   "cell_type": "code",
   "execution_count": 9,
   "id": "bda1e9a0",
   "metadata": {},
   "outputs": [
    {
     "name": "stderr",
     "output_type": "stream",
     "text": [
      "[Stage 18:===========================================>              (3 + 1) / 4]\r"
     ]
    },
    {
     "name": "stdout",
     "output_type": "stream",
     "text": [
      "+--------+--------------------+\n",
      "|Protocol|   Avg_Flow_Duration|\n",
      "+--------+--------------------+\n",
      "|       6|   9549803.667116841|\n",
      "|      17|  376613.15135208116|\n",
      "|       0|-1.21059038651405...|\n",
      "+--------+--------------------+\n",
      "\n"
     ]
    },
    {
     "name": "stderr",
     "output_type": "stream",
     "text": [
      "\r",
      "                                                                                \r"
     ]
    }
   ],
   "source": [
    "from pyspark.sql import SparkSession\n",
    "\n",
    "# create a SparkSession object\n",
    "spark = SparkSession.builder.appName(\"my_app\").getOrCreate()\n",
    "\n",
    "# load your data into a DataFrame\n",
    "df = spark.read.format(\"csv\").option(\"header\", True).load(\"data.csv\")\n",
    "\n",
    "# create a temporary view of the DataFrame\n",
    "df.createOrReplaceTempView(\"my_table\")\n",
    "\n",
    "# run a SQL query against the view\n",
    "sql = \"SELECT Protocol, AVG(`Flow Duration`) AS Avg_Flow_Duration FROM my_table GROUP BY Protocol ORDER BY Avg_Flow_Duration DESC LIMIT 5\"\n",
    "result = spark.sql(sql)\n",
    "\n",
    "# display the result\n",
    "result.show()"
   ]
  },
  {
   "cell_type": "code",
   "execution_count": null,
   "id": "85bd3518",
   "metadata": {},
   "outputs": [],
   "source": []
  },
  {
   "cell_type": "code",
   "execution_count": 27,
   "id": "4331a40e",
   "metadata": {},
   "outputs": [
    {
     "name": "stderr",
     "output_type": "stream",
     "text": [
      "                                                                                \r"
     ]
    },
    {
     "name": "stdout",
     "output_type": "stream",
     "text": [
      "Column<'pValues'>\n"
     ]
    }
   ],
   "source": [
    "from pyspark.ml.feature import StringIndexer\n",
    "from pyspark.ml.feature import VectorAssembler\n",
    "from pyspark.ml import Pipeline\n",
    "from pyspark.sql.functions import col\n",
    "\n",
    "# Define categorical columns\n",
    "cat_cols = [\"Protocol\"]\n",
    "data = spark.read.format(\"csv\").option(\"header\", True).load(\"data.csv\")\n",
    "\n",
    "# Define StringIndexer for categorical columns\n",
    "indexers = [StringIndexer(inputCol=col, outputCol=col+\"_index\") for col in cat_cols]\n",
    "\n",
    "# Define VectorAssembler to combine all features into a single vector column\n",
    "assembler = VectorAssembler(inputCols=[col+\"_index\" for col in cat_cols], outputCol=\"features\")\n",
    "\n",
    "# Fit the StringIndexer and VectorAssembler on the DataFrame\n",
    "indexer_model = Pipeline(stages=indexers)\n",
    "data_indexed = indexer_model.fit(data).transform(data)\n",
    "data_assembled = assembler.transform(data_indexed)\n",
    "data_assembled = data_assembled.withColumn(\"Flow Duration\", col(\"Flow Duration\").cast(\"double\"))\n",
    "\n",
    "# Perform ChiSquareTest\n",
    "chisqTest = ChiSquareTest.test(data_assembled, \"features\", \"Flow Duration\")\n",
    "\n",
    "# Print p-values for each feature\n",
    "print(chisqTest.pValues)\n"
   ]
  },
  {
   "cell_type": "code",
   "execution_count": null,
   "id": "7f89062a",
   "metadata": {},
   "outputs": [],
   "source": []
  },
  {
   "cell_type": "code",
   "execution_count": null,
   "id": "903095eb",
   "metadata": {},
   "outputs": [],
   "source": []
  }
 ],
 "metadata": {
  "kernelspec": {
   "display_name": "Python 3 (ipykernel)",
   "language": "python",
   "name": "python3"
  },
  "language_info": {
   "codemirror_mode": {
    "name": "ipython",
    "version": 3
   },
   "file_extension": ".py",
   "mimetype": "text/x-python",
   "name": "python",
   "nbconvert_exporter": "python",
   "pygments_lexer": "ipython3",
   "version": "3.9.7"
  }
 },
 "nbformat": 4,
 "nbformat_minor": 5
}
