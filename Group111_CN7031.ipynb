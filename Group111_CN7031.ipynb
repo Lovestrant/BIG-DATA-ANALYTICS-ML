{
 "cells": [
  {
   "cell_type": "markdown",
   "id": "1a7742f8",
   "metadata": {},
   "source": [
    "# **Big Data Analytics [CN7031] CRWK 2022-23**\n",
    "# **Group ID: [111]**\n",
    "# *Group Members* #\n",
    "1.   Student 1: \n",
    "2.   Student 2: \n",
    "3.   Student 3: \n",
    "4.   Student 4: \n",
    "\n",
    "---\n",
    "\n",
    "\n",
    "If you want to add comments on your group work, please write it here for us:"
   ]
  },
  {
   "cell_type": "markdown",
   "id": "5cd5312a",
   "metadata": {},
   "source": [
    "## Install Pyspark\n",
    "##### Reference: https://spark.apache.org/docs/latest/api/python/getting_started/index.html"
   ]
  },
  {
   "cell_type": "code",
   "execution_count": 13,
   "id": "7052af06",
   "metadata": {
    "scrolled": true
   },
   "outputs": [
    {
     "name": "stdout",
     "output_type": "stream",
     "text": [
      "Defaulting to user installation because normal site-packages is not writeable\n",
      "\u001b[33mWARNING: Ignoring invalid distribution -andas (/home/kemboi/.local/lib/python3.10/site-packages)\u001b[0m\u001b[33m\n",
      "\u001b[0m\u001b[33mWARNING: Ignoring invalid distribution -andas (/home/kemboi/.local/lib/python3.10/site-packages)\u001b[0m\u001b[33m\n",
      "\u001b[0mRequirement already satisfied: pyspark in /home/kemboi/.local/lib/python3.10/site-packages (3.3.2)\n",
      "Requirement already satisfied: py4j==0.10.9.5 in /home/kemboi/.local/lib/python3.10/site-packages (from pyspark) (0.10.9.5)\n",
      "\u001b[33mWARNING: Ignoring invalid distribution -andas (/home/kemboi/.local/lib/python3.10/site-packages)\u001b[0m\u001b[33m\n",
      "\u001b[0m\u001b[33mWARNING: Ignoring invalid distribution -andas (/home/kemboi/.local/lib/python3.10/site-packages)\u001b[0m\u001b[33m\n",
      "\u001b[0m\u001b[33mWARNING: Ignoring invalid distribution -andas (/home/kemboi/.local/lib/python3.10/site-packages)\u001b[0m\u001b[33m\n",
      "\u001b[0m\u001b[33mWARNING: Ignoring invalid distribution -andas (/home/kemboi/.local/lib/python3.10/site-packages)\u001b[0m\u001b[33m\n",
      "\u001b[0mNote: you may need to restart the kernel to use updated packages.\n"
     ]
    }
   ],
   "source": [
    "pip install pyspark"
   ]
  },
  {
   "cell_type": "code",
   "execution_count": 2,
   "id": "70e269d8",
   "metadata": {},
   "outputs": [
    {
     "name": "stdout",
     "output_type": "stream",
     "text": [
      "23/03/05 00:57:47 WARN Utils: Your hostname, Kemboi resolves to a loopback address: 127.0.1.1; using 10.3.3.191 instead (on interface wlo1)\n",
      "23/03/05 00:57:47 WARN Utils: Set SPARK_LOCAL_IP if you need to bind to another address\n"
     ]
    },
    {
     "name": "stderr",
     "output_type": "stream",
     "text": [
      "Setting default log level to \"WARN\".\n",
      "To adjust logging level use sc.setLogLevel(newLevel). For SparkR, use setLogLevel(newLevel).\n"
     ]
    },
    {
     "name": "stdout",
     "output_type": "stream",
     "text": [
      "23/03/05 00:57:53 WARN NativeCodeLoader: Unable to load native-hadoop library for your platform... using builtin-java classes where applicable\n",
      "23/03/05 00:57:54 WARN Utils: Service 'SparkUI' could not bind on port 4040. Attempting port 4041.\n"
     ]
    }
   ],
   "source": [
    "import pyspark\n",
    "from pyspark.sql import SparkSession\n",
    "spark=SparkSession.builder.master(\"local[*]\").appName(\"Task1\").getOrCreate()"
   ]
  },
  {
   "cell_type": "markdown",
   "id": "948dc181",
   "metadata": {},
   "source": [
    "# Loading data"
   ]
  },
  {
   "cell_type": "code",
   "execution_count": 3,
   "id": "3da3af3e",
   "metadata": {},
   "outputs": [
    {
     "name": "stderr",
     "output_type": "stream",
     "text": [
      "\r",
      "[Stage 0:>                                                          (0 + 1) / 1]\r",
      "\r",
      "                                                                                \r"
     ]
    }
   ],
   "source": [
    "# Loading data from Local csv\n",
    "df=spark.read.csv(\"data.csv\")\n"
   ]
  },
  {
   "cell_type": "code",
   "execution_count": 4,
   "id": "08965085",
   "metadata": {},
   "outputs": [
    {
     "name": "stdout",
     "output_type": "stream",
     "text": [
      "23/03/05 00:58:02 WARN package: Truncated the string representation of a plan since it was too large. This behavior can be adjusted by setting 'spark.sql.debug.maxToStringFields'.\n",
      "+--------+--------+-------------------+-------------+------------+------------+---------------+---------------+---------------+---------------+----------------+---------------+---------------+---------------+----------------+---------------+---------------+-------------+----------------+----------------+------------+------------+-----------+----------------+----------------+-----------+-----------+-----------+----------------+----------------+-----------+-----------+-------------+-------------+-------------+-------------+--------------+--------------+-------------+------------+-----------+-----------+--------------+--------------+----------------+------------+------------+------------+------------+------------+------------+--------------+------------+-------------+--------------+----------------+----------------+--------------+--------------+----------------+--------------+--------------+----------------+----------------+----------------+----------------+----------------+-----------------+-----------------+-----------------+----------------+-----------+----------+----------+----------+----------+--------------+--------+--------+------+\n",
      "|     _c0|     _c1|                _c2|          _c3|         _c4|         _c5|            _c6|            _c7|            _c8|            _c9|            _c10|           _c11|           _c12|           _c13|            _c14|           _c15|           _c16|         _c17|            _c18|            _c19|        _c20|        _c21|       _c22|            _c23|            _c24|       _c25|       _c26|       _c27|            _c28|            _c29|       _c30|       _c31|         _c32|         _c33|         _c34|         _c35|          _c36|          _c37|         _c38|        _c39|       _c40|       _c41|          _c42|          _c43|            _c44|        _c45|        _c46|        _c47|        _c48|        _c49|        _c50|          _c51|        _c52|         _c53|          _c54|            _c55|            _c56|          _c57|          _c58|            _c59|          _c60|          _c61|            _c62|            _c63|            _c64|            _c65|            _c66|             _c67|             _c68|             _c69|            _c70|       _c71|      _c72|      _c73|      _c74|      _c75|          _c76|    _c77|    _c78|  _c79|\n",
      "+--------+--------+-------------------+-------------+------------+------------+---------------+---------------+---------------+---------------+----------------+---------------+---------------+---------------+----------------+---------------+---------------+-------------+----------------+----------------+------------+------------+-----------+----------------+----------------+-----------+-----------+-----------+----------------+----------------+-----------+-----------+-------------+-------------+-------------+-------------+--------------+--------------+-------------+------------+-----------+-----------+--------------+--------------+----------------+------------+------------+------------+------------+------------+------------+--------------+------------+-------------+--------------+----------------+----------------+--------------+--------------+----------------+--------------+--------------+----------------+----------------+----------------+----------------+----------------+-----------------+-----------------+-----------------+----------------+-----------+----------+----------+----------+----------+--------------+--------+--------+------+\n",
      "|Dst Port|Protocol|          Timestamp|Flow Duration|Tot Fwd Pkts|Tot Bwd Pkts|TotLen Fwd Pkts|TotLen Bwd Pkts|Fwd Pkt Len Max|Fwd Pkt Len Min|Fwd Pkt Len Mean|Fwd Pkt Len Std|Bwd Pkt Len Max|Bwd Pkt Len Min|Bwd Pkt Len Mean|Bwd Pkt Len Std|    Flow Byts/s|  Flow Pkts/s|   Flow IAT Mean|    Flow IAT Std|Flow IAT Max|Flow IAT Min|Fwd IAT Tot|    Fwd IAT Mean|     Fwd IAT Std|Fwd IAT Max|Fwd IAT Min|Bwd IAT Tot|    Bwd IAT Mean|     Bwd IAT Std|Bwd IAT Max|Bwd IAT Min|Fwd PSH Flags|Bwd PSH Flags|Fwd URG Flags|Bwd URG Flags|Fwd Header Len|Bwd Header Len|   Fwd Pkts/s|  Bwd Pkts/s|Pkt Len Min|Pkt Len Max|  Pkt Len Mean|   Pkt Len Std|     Pkt Len Var|FIN Flag Cnt|SYN Flag Cnt|RST Flag Cnt|PSH Flag Cnt|ACK Flag Cnt|URG Flag Cnt|CWE Flag Count|ECE Flag Cnt|Down/Up Ratio|  Pkt Size Avg|Fwd Seg Size Avg|Bwd Seg Size Avg|Fwd Byts/b Avg|Fwd Pkts/b Avg|Fwd Blk Rate Avg|Bwd Byts/b Avg|Bwd Pkts/b Avg|Bwd Blk Rate Avg|Subflow Fwd Pkts|Subflow Fwd Byts|Subflow Bwd Pkts|Subflow Bwd Byts|Init Fwd Win Byts|Init Bwd Win Byts|Fwd Act Data Pkts|Fwd Seg Size Min|Active Mean|Active Std|Active Max|Active Min| Idle Mean|      Idle Std|Idle Max|Idle Min| Label|\n",
      "|       0|       0|14/02/2018 08:31:01|    112641719|           3|           0|              0|              0|              0|              0|               0|              0|              0|              0|               0|              0|              0| 0.0266331163|      56320859.5|  139.3000358938|    56320958|    56320761|  112641719|      56320859.5|  139.3000358938|   56320958|   56320761|          0|               0|               0|          0|          0|            0|            0|            0|            0|             0|             0| 0.0266331163|           0|          0|          0|             0|             0|               0|           0|           0|           0|           0|           0|           0|             0|           0|            0|             0|               0|               0|             0|             0|               0|             0|             0|               0|               3|               0|               0|               0|               -1|               -1|                0|               0|          0|         0|         0|         0|56320859.5|139.3000358938|56320958|56320761|Benign|\n",
      "|       0|       0|14/02/2018 08:33:50|    112641466|           3|           0|              0|              0|              0|              0|               0|              0|              0|              0|               0|              0|              0| 0.0266331761|        56320733|  114.5512985522|    56320814|    56320652|  112641466|        56320733|  114.5512985522|   56320814|   56320652|          0|               0|               0|          0|          0|            0|            0|            0|            0|             0|             0| 0.0266331761|           0|          0|          0|             0|             0|               0|           0|           0|           0|           0|           0|           0|             0|           0|            0|             0|               0|               0|             0|             0|               0|             0|             0|               0|               3|               0|               0|               0|               -1|               -1|                0|               0|          0|         0|         0|         0|  56320733|114.5512985522|56320814|56320652|Benign|\n",
      "|       0|       0|14/02/2018 08:36:39|    112638623|           3|           0|              0|              0|              0|              0|               0|              0|              0|              0|               0|              0|              0| 0.0266338483|      56319311.5|  301.9345955667|    56319525|    56319098|  112638623|      56319311.5|  301.9345955667|   56319525|   56319098|          0|               0|               0|          0|          0|            0|            0|            0|            0|             0|             0| 0.0266338483|           0|          0|          0|             0|             0|               0|           0|           0|           0|           0|           0|           0|             0|           0|            0|             0|               0|               0|             0|             0|               0|             0|             0|               0|               3|               0|               0|               0|               -1|               -1|                0|               0|          0|         0|         0|         0|56319311.5|301.9345955667|56319525|56319098|Benign|\n",
      "|      22|       6|14/02/2018 08:40:13|      6453966|          15|          10|           1239|           2273|            744|              0|            82.6| 196.7412368715|            976|              0|           227.3| 371.6778922072| 544.1615279659| 3.8735871865|       268915.25|247443.778966007|      673900|          22|    6453966|460997.571428571|123109.423587757|     673900|     229740|    5637902|626433.555555556| 455082.21422401|    1167293|        554|            0|            0|            0|            0|           488|           328| 2.3241523119|1.5494348746|          0|        976|135.0769230769|277.8347599674|77192.1538461539|           0|           0|           0|           1|           0|           0|             0|           0|            0|        140.48|            82.6|           227.3|             0|             0|               0|             0|             0|               0|              15|            1239|              10|            2273|            65535|              233|                6|              32|          0|         0|         0|         0|         0|             0|       0|       0|Benign|\n",
      "|      22|       6|14/02/2018 08:40:23|      8804066|          14|          11|           1143|           2209|            744|              0|   81.6428571429| 203.7455453568|            976|              0|  200.8181818182| 362.2498635422| 380.7331748762|  2.839597068|366836.083333333|511356.609732762|     1928102|          21|    8804066|677235.846153846|532416.970958985|    1928102|     246924|    7715481|        771548.1|755543.082716951|    2174893|         90|            0|            0|            0|            0|           456|           360| 1.5901743581|1.2494227099|          0|        976|128.9230769231|279.7630315931|78267.3538461539|           0|           0|           0|           1|           0|           0|             0|           0|            0|        134.08|   81.6428571429|  200.8181818182|             0|             0|               0|             0|             0|               0|              14|            1143|              11|            2209|             5808|              233|                6|              32|          0|         0|         0|         0|         0|             0|       0|       0|Benign|\n",
      "|      22|       6|14/02/2018 08:40:31|      6989341|          16|          12|           1239|           2273|            744|              0|         77.4375| 190.8311535538|            976|              0|  189.4166666667| 347.6425694023| 502.4794183028| 4.0061001459|258864.481481481| 291724.14791076|      951098|          20|    6989341|465956.066666667|244363.896416351|     951098|     265831|    5980598|543690.727272727|460713.519752371|    1254338|         78|            0|            0|            0|            0|           332|           252| 2.2892000834|1.7169000625|          0|        976|121.1034482759|265.7086676402|70601.0960591133|           0|           0|           0|           1|           0|           0|             0|           0|            0|125.4285714286|         77.4375|  189.4166666667|             0|             0|               0|             0|             0|               0|              16|            1239|              12|            2273|             5808|              234|                7|              20|          0|         0|         0|         0|         0|             0|       0|       0|Benign|\n",
      "|       0|       0|14/02/2018 08:39:28|    112640480|           3|           0|              0|              0|              0|              0|               0|              0|              0|              0|               0|              0|              0| 0.0266334092|        56320240|  203.6467529817|    56320384|    56320096|  112640480|        56320240|  203.6467529817|   56320384|   56320096|          0|               0|               0|          0|          0|            0|            0|            0|            0|             0|             0| 0.0266334092|           0|          0|          0|             0|             0|               0|           0|           0|           0|           0|           0|           0|             0|           0|            0|             0|               0|               0|             0|             0|               0|             0|             0|               0|               3|               0|               0|               0|               -1|               -1|                0|               0|          0|         0|         0|         0|  56320240|203.6467529817|56320384|56320096|Benign|\n",
      "|       0|       0|14/02/2018 08:42:17|    112641244|           3|           0|              0|              0|              0|              0|               0|              0|              0|              0|               0|              0|              0| 0.0266332286|        56320622|   62.2253967444|    56320666|    56320578|  112641244|        56320622|   62.2253967444|   56320666|   56320578|          0|               0|               0|          0|          0|            0|            0|            0|            0|             0|             0| 0.0266332286|           0|          0|          0|             0|             0|               0|           0|           0|           0|           0|           0|           0|             0|           0|            0|             0|               0|               0|             0|             0|               0|             0|             0|               0|               3|               0|               0|               0|               -1|               -1|                0|               0|          0|         0|         0|         0|  56320622| 62.2253967444|56320666|56320578|Benign|\n",
      "|      80|       6|14/02/2018 08:47:14|       476513|           5|           3|            211|            463|            211|              0|            42.2|  94.3620686505|            463|              0|  154.3333333333| 267.3131746348|1414.4419984345|16.7886290615|68073.2857142857|115865.792656438|      237711|          24|     476513|       119128.25|137379.963358017|     238470|        108|     238634|          119317|167621.076693833|     237843|        791|            0|            0|            0|            0|           168|           104|10.4928931635|6.2957358981|          0|        463| 74.8888888889|161.4058893322|26051.8611111111|           0|           0|           0|           1|           0|           0|             0|           0|            0|         84.25|            42.2|  154.3333333333|             0|             0|               0|             0|             0|               0|               5|             211|               3|             463|            14600|              219|                1|              32|          0|         0|         0|         0|         0|             0|       0|       0|Benign|\n",
      "|      80|       6|14/02/2018 08:47:15|       475048|           5|           3|            220|            472|            220|              0|              44|    98.38699101|            472|              0|  157.3333333333| 272.5093270575|1456.6949024099|16.8404034961|           67864|115746.933154476|      237494|          15|     475048|          118762|137096.759626185|     237853|         15|     237516|          118758|167472.584269784|     237179|        337|            0|            0|            0|            0|           168|           104| 10.525252185| 6.315151311|          0|        472| 76.8888888889|165.0669897681|27247.1111111111|           0|           0|           0|           1|           0|           0|             0|           0|            0|          86.5|              44|  157.3333333333|             0|             0|               0|             0|             0|               0|               5|             220|               3|             472|            14600|              219|                1|              32|          0|         0|         0|         0|         0|             0|       0|       0|Benign|\n",
      "|      80|       6|14/02/2018 08:47:15|       474926|           5|           3|            220|            472|            220|              0|              44|    98.38699101|            472|              0|  157.3333333333| 272.5093270575|1457.0691012916|16.8447294947|67846.5714285714|115645.740842248|      237162|          15|     474926|        118731.5|136923.365842601|     237497|         15|     237732|          118866|167663.503100705|     237422|        310|            0|            0|            0|            0|           168|           104|10.5279559342|6.3167735605|          0|        472| 76.8888888889|165.0669897681|27247.1111111111|           0|           0|           0|           1|           0|           0|             0|           0|            0|          86.5|              44|  157.3333333333|             0|             0|               0|             0|             0|               0|               5|             220|               3|             472|            14480|              219|                1|              32|          0|         0|         0|         0|         0|             0|       0|       0|Benign|\n",
      "|      80|       6|14/02/2018 08:47:16|       477471|           5|           3|            209|            461|            209|              0|            41.8|  93.4676414595|            461|              0|  153.6666666667| 266.1584740964|1403.2265833946|16.7549442793|68210.1428571429|116178.228792989|      238389|          17|     477471|       119367.75|137516.508224467|     238515|        149|     238887|        119443.5|168454.755588852|     238559|        328|            0|            0|            0|            0|           168|           104|10.4718401746|6.2831041048|          0|        461| 74.4444444444|160.5942955954|25790.5277777778|           0|           0|           0|           1|           0|           0|             0|           0|            0|         83.75|            41.8|  153.6666666667|             0|             0|               0|             0|             0|               0|               5|             209|               3|             461|            14480|              219|                1|              32|          0|         0|         0|         0|         0|             0|       0|       0|Benign|\n",
      "|      80|       6|14/02/2018 08:47:16|       512758|           5|           3|            211|            463|            211|              0|            42.2|  94.3620686505|            463|              0|  154.3333333333| 267.3131746348|1314.4602327024|15.6019018718|73251.1428571429|124959.473740394|      256188|          10|     512758|        128189.5|148006.106082373|     256523|         10|     256563|        128281.5|180935.190276795|     256222|        341|            0|            0|            0|            0|           168|           104| 9.7511886699|5.8507132019|          0|        463| 74.8888888889|161.4058893322|26051.8611111111|           0|           0|           0|           1|           0|           0|             0|           0|            0|         84.25|            42.2|  154.3333333333|             0|             0|               0|             0|             0|               0|               5|             211|               3|             463|            14480|              219|                1|              32|          0|         0|         0|         0|         0|             0|       0|       0|Benign|\n",
      "|      80|       6|14/02/2018 08:47:17|       476711|           5|           3|            206|            458|            206|              0|            41.2|   92.126000673|            458|              0|  152.6666666667| 264.4264232888|1392.8774456641|16.7816559719|68101.5714285714|115977.215079597|      238034|          16|     476711|       119177.75| 137207.36560009|     238274|         78|     238033|        119016.5|168007.864103143|     237816|        217|            0|            0|            0|            0|           168|           104|10.4885349824|6.2931209894|          0|        458| 73.7777777778|159.3783060659|25401.4444444444|           0|           0|           0|           1|           0|           0|             0|           0|            0|            83|            41.2|  152.6666666667|             0|             0|               0|             0|             0|               0|               5|             206|               3|             458|            14480|              219|                1|              32|          0|         0|         0|         0|         0|             0|       0|       0|Benign|\n",
      "|      80|       6|14/02/2018 08:47:17|       476616|           5|           3|            211|            463|            211|              0|            42.2|  94.3620686505|            463|              0|  154.3333333333| 267.3131746348|1414.1363277775|16.7850009232|           68088|115553.073301117|      237285|           8|     476616|          119154|136576.972942001|     237558|          8|     237660|          118830|167563.093937776|     237315|        345|            0|            0|            0|            0|           168|           104| 10.490625577|6.2943753462|          0|        463| 74.8888888889|161.4058893322|26051.8611111111|           0|           0|           0|           1|           0|           0|             0|           0|            0|         84.25|            42.2|  154.3333333333|             0|             0|               0|             0|             0|               0|               5|             211|               3|             463|            14480|              219|                1|              32|          0|         0|         0|         0|         0|             0|       0|       0|Benign|\n",
      "|      80|       6|14/02/2018 08:47:18|       477161|           5|           3|            211|            463|            211|              0|            42.2|  94.3620686505|            463|              0|  154.3333333333| 267.3131746348|1412.5211406632|16.7658295628|68165.8571428572|116324.530541969|      238504|          12|     477161|       119290.25|137729.560342905|     238719|         12|     238618|          119309|168449.805841384|     238421|        197|            0|            0|            0|            0|           168|           104|10.4786434767| 6.287186086|          0|        463| 74.8888888889|161.4058893322|26051.8611111111|           0|           0|           0|           1|           0|           0|             0|           0|            0|         84.25|            42.2|  154.3333333333|             0|             0|               0|             0|             0|               0|               5|             211|               3|             463|            14480|              219|                1|              32|          0|         0|         0|         0|         0|             0|       0|       0|Benign|\n",
      "|      80|       6|14/02/2018 08:47:18|       474670|           5|           3|            214|            466|            214|              0|            42.8|   95.703709437|            466|              0|  155.3333333333| 269.0452254424|1432.5742094508|16.8538142288|           67810|115371.262364883|      236717|          15|     474670|        118667.5|136423.221362787|     236894|         55|     236992|          118496| 167297.22178805|     236793|        199|            0|            0|            0|            0|           168|           104| 10.533633893|6.3201803358|          0|        466| 75.5555555556|162.6246530443|26446.7777777778|           0|           0|           0|           1|           0|           0|             0|           0|            0|            85|            42.8|  155.3333333333|             0|             0|               0|             0|             0|               0|               5|             214|               3|             466|            14480|              219|                1|              32|          0|         0|         0|         0|         0|             0|       0|       0|Benign|\n",
      "|      80|       6|14/02/2018 08:47:19|       476608|           5|           3|            209|            461|            209|              0|            41.8|  93.4676414595|            461|              0|  153.6666666667| 266.1584740964|1405.7674231234|16.7852826642|68086.8571428572|116165.357657993|      238154|          21|     476608|          119152|137536.399945614|     238349|         28|     238442|          119221|168305.556058022|     238231|        211|            0|            0|            0|            0|           168|           104|10.4908016651|6.2944809991|          0|        461| 74.4444444444|160.5942955954|25790.5277777778|           0|           0|           0|           1|           0|           0|             0|           0|            0|         83.75|            41.8|  153.6666666667|             0|             0|               0|             0|             0|               0|               5|             209|               3|             461|            14480|              219|                1|              32|          0|         0|         0|         0|         0|             0|       0|       0|Benign|\n",
      "|      80|       6|14/02/2018 08:47:19|       479249|           5|           3|            215|            467|            215|              0|              43|  96.1509230325|            467|              0|  155.6666666667| 269.6225757116|1423.0598290242|16.6927839182|68464.1428571429|116522.185511928|      239061|          18|     479249|       119812.25|137797.592674606|     239270|         21|     239238|          119619|168903.768394906|     239052|        186|            0|            0|            0|            0|           168|           104|10.4329899489|6.2597939693|          0|        467| 75.7777777778|163.0312683029|26579.1944444444|           0|           0|           0|           1|           0|           0|             0|           0|            0|         85.25|              43|  155.6666666667|             0|             0|               0|             0|             0|               0|               5|             215|               3|             467|            14480|              219|                1|              32|          0|         0|         0|         0|         0|             0|       0|       0|Benign|\n",
      "+--------+--------+-------------------+-------------+------------+------------+---------------+---------------+---------------+---------------+----------------+---------------+---------------+---------------+----------------+---------------+---------------+-------------+----------------+----------------+------------+------------+-----------+----------------+----------------+-----------+-----------+-----------+----------------+----------------+-----------+-----------+-------------+-------------+-------------+-------------+--------------+--------------+-------------+------------+-----------+-----------+--------------+--------------+----------------+------------+------------+------------+------------+------------+------------+--------------+------------+-------------+--------------+----------------+----------------+--------------+--------------+----------------+--------------+--------------+----------------+----------------+----------------+----------------+----------------+-----------------+-----------------+-----------------+----------------+-----------+----------+----------+----------+----------+--------------+--------+--------+------+\n",
      "only showing top 20 rows\n",
      "\n"
     ]
    }
   ],
   "source": [
    "df.show()"
   ]
  },
  {
   "cell_type": "code",
   "execution_count": 5,
   "id": "07c190df",
   "metadata": {},
   "outputs": [
    {
     "name": "stdout",
     "output_type": "stream",
     "text": [
      "['_c0', '_c1', '_c2', '_c3', '_c4', '_c5', '_c6', '_c7', '_c8', '_c9', '_c10', '_c11', '_c12', '_c13', '_c14', '_c15', '_c16', '_c17', '_c18', '_c19', '_c20', '_c21', '_c22', '_c23', '_c24', '_c25', '_c26', '_c27', '_c28', '_c29', '_c30', '_c31', '_c32', '_c33', '_c34', '_c35', '_c36', '_c37', '_c38', '_c39', '_c40', '_c41', '_c42', '_c43', '_c44', '_c45', '_c46', '_c47', '_c48', '_c49', '_c50', '_c51', '_c52', '_c53', '_c54', '_c55', '_c56', '_c57', '_c58', '_c59', '_c60', '_c61', '_c62', '_c63', '_c64', '_c65', '_c66', '_c67', '_c68', '_c69', '_c70', '_c71', '_c72', '_c73', '_c74', '_c75', '_c76', '_c77', '_c78', '_c79']\n"
     ]
    }
   ],
   "source": [
    "# Show the names of all columns in a DataFrame\n",
    "print(df.columns)"
   ]
  },
  {
   "cell_type": "markdown",
   "id": "76b5ae5f",
   "metadata": {},
   "source": [
    "## Spark SQL Queries. "
   ]
  },
  {
   "cell_type": "code",
   "execution_count": 8,
   "id": "2a04df8c",
   "metadata": {},
   "outputs": [],
   "source": [
    "# import libraries\n",
    "import pandas as pd\n",
    "import numpy as np\n",
    "import matplotlib.pyplot as plt\n",
    "import seaborn as sns\n",
    "sns.set()\n"
   ]
  },
  {
   "cell_type": "code",
   "execution_count": 9,
   "id": "fac604a8",
   "metadata": {},
   "outputs": [],
   "source": [
    "# create a temporary SQL View\n",
    "df.createOrReplaceTempView(\"my_table\")\n",
    "# load your data into a DataFrame\n",
    "df = spark.read.format(\"csv\").option(\"header\", True).load(\"data.csv\")"
   ]
  },
  {
   "cell_type": "code",
   "execution_count": 10,
   "id": "772c9225",
   "metadata": {},
   "outputs": [
    {
     "name": "stderr",
     "output_type": "stream",
     "text": [
      "[Stage 3:============================================>              (3 + 1) / 4]\r"
     ]
    },
    {
     "name": "stdout",
     "output_type": "stream",
     "text": [
      "+----+--------+\n",
      "| _c6|count_c6|\n",
      "+----+--------+\n",
      "|   0|  455846|\n",
      "|1912|   30519|\n",
      "|1928|   30093|\n",
      "|1138|   24981|\n",
      "|1148|   24772|\n",
      "| 161|   21230|\n",
      "|  97|   20958|\n",
      "|  31|   17349|\n",
      "|1944|   16465|\n",
      "|  77|   14679|\n",
      "+----+--------+\n",
      "\n"
     ]
    },
    {
     "name": "stderr",
     "output_type": "stream",
     "text": [
      "\r",
      "                                                                                \r"
     ]
    }
   ],
   "source": [
    "#Student One Querry 1\n",
    "# select the values from column _c6 and count the number of occurrences of each value in the column. \n",
    "# group resultss by the values in column _c6 and sort in descending order by the count. \n",
    "# Return only 10 values with the highest count\n",
    "\n",
    "result = spark.sql(\"SELECT _c6, COUNT(_c6) AS count_c6 FROM my_table GROUP BY _c6 ORDER BY count_c6 DESC LIMIT 10\")\n",
    "\n",
    "# display the result\n",
    "result.show()"
   ]
  },
  {
   "cell_type": "code",
   "execution_count": 11,
   "id": "a3e39f00",
   "metadata": {},
   "outputs": [
    {
     "name": "stderr",
     "output_type": "stream",
     "text": [
      "                                                                                \r"
     ]
    },
    {
     "name": "stdout",
     "output_type": "stream",
     "text": [
      "+--------+--------------------+\n",
      "|Protocol|   Avg_Flow_Duration|\n",
      "+--------+--------------------+\n",
      "|       6|   9549803.667116841|\n",
      "|      17|  376613.15135208116|\n",
      "|       0|-1.21059038651405...|\n",
      "|Protocol|                null|\n",
      "+--------+--------------------+\n",
      "\n"
     ]
    },
    {
     "name": "stderr",
     "output_type": "stream",
     "text": [
      "                                                                                \r"
     ]
    },
    {
     "data": {
      "image/png": "[encoded data removed]",
      "text/plain": [
       "<Figure size 640x480 with 1 Axes>"
      ]
     },
     "metadata": {},
     "output_type": "display_data"
    }
   ],
   "source": [
    "#Student One Querry 2\n",
    "# select the _c1 column as Protocol and calculate the average value of the _c3 column as Avg_Flow_Duration.\n",
    "# Group the results by Protocol, calculate the average of _c3 for each unique value of Protocol\n",
    "# order the results by Avg_Flow_Duration in descending order\n",
    "# limit the result to the top 10 rows with the highest Avg_Flow_Duration.\n",
    "\n",
    "# run a SQL query against the view\n",
    "result = spark.sql(\"SELECT my_table._c1 AS Protocol, AVG(my_table._c3) AS Avg_Flow_Duration FROM my_table GROUP BY Protocol ORDER BY Avg_Flow_Duration DESC LIMIT 10\")\n",
    "\n",
    "# display the result\n",
    "result.show()\n",
    "\n",
    "\n",
    "# plot the Avarage Flow duration in a pie chart\n",
    "query1_pd = result.toPandas()\n",
    "query1_pd = result.head(3)\n",
    "query1_pd = pd.DataFrame(result.head(3), columns=['Protocol', 'Flow Duration'])\n",
    "query1_pd['Flow Duration'] = query1_pd['Flow Duration'].abs()\n",
    "# plt.pie(query1_pd['Protocol'], labels=query1_pd['Flow Duration'], autopct='%1.1f%%')\n",
    "plt.pie(query1_pd.iloc[:, 1], labels=query1_pd.iloc[:, 0], autopct='%1.1f%%')\n",
    "\n",
    "plt.show()"
   ]
  },
  {
   "cell_type": "code",
   "execution_count": 12,
   "id": "8002fe4e",
   "metadata": {},
   "outputs": [
    {
     "name": "stderr",
     "output_type": "stream",
     "text": [
      "[Stage 18:===========================================>              (3 + 1) / 4]\r"
     ]
    },
    {
     "name": "stdout",
     "output_type": "stream",
     "text": [
      "+--------------+------+\n",
      "|          _c15| count|\n",
      "+--------------+------+\n",
      "|             0|705844|\n",
      "|430.0986044197| 64670|\n",
      "|258.6415602914| 58733|\n",
      "|268.7712537496| 30210|\n",
      "|           244| 21117|\n",
      "|           116| 20480|\n",
      "| 69.7588704037| 10083|\n",
      "|167.0353256051|  8427|\n",
      "|263.5746392887|  4801|\n",
      "|406.1217050168|  4208|\n",
      "+--------------+------+\n",
      "\n"
     ]
    },
    {
     "name": "stderr",
     "output_type": "stream",
     "text": [
      "\r",
      "                                                                                \r"
     ]
    }
   ],
   "source": [
    "#Student TWO querry one\n",
    "# select the _c15 column and counts the number of occurrences of each unique value in that column. \n",
    "# group the results by _c15 and orders the results by the count of each unique value in descending order.\n",
    "# Limits the result to the top 10 rows with the highest counts.\n",
    "\n",
    "result2 = spark.sql(\"SELECT _c15, COUNT(*) AS count FROM my_table GROUP BY _c15 ORDER BY count DESC LIMIT 10;\")\n",
    "\n",
    "# display the result\n",
    "result2.show()"
   ]
  },
  {
   "cell_type": "code",
   "execution_count": null,
   "id": "9db67730",
   "metadata": {},
   "outputs": [],
   "source": [
    "#Student Two Querry two\n",
    "\n",
    "# select the _c0 column and counts the number of occurrences of each unique value in that column, grouping the results by Dst_Port.\n",
    "# calculate the percentage of rows where _c46 is greater than or equal to 2, which is also grouped by Dst_Port.\n",
    "# order the result by the FIN_Flag_Percentage column in descending order.\n",
    "\n",
    "# run a SQL query against the view\n",
    "\n",
    "result2 = spark.sql(\"SELECT my_table._c0 AS Dst_Port, (COUNT(CASE WHEN my_table._c46 >= 2 THEN 1 END) / COUNT(*) * 100) AS FIN_Flag_Percentage FROM my_table GROUP BY Dst_Port ORDER BY FIN_Flag_Percentage DESC\")\n",
    "\n",
    "# display the result\n",
    "result2.show()\n",
    "\n",
    "# plot percent_rank vs Flow_Duration_sum for the top 3 labels\n",
    "result2 = result2.toPandas()\n",
    "result2 = result2.head(3)\n",
    "plt.plot(result2['Dst_Port'], result2['FIN_Flag_Percentage'])\n",
    "\n",
    "plt.xlabel('Dst_Port')\n",
    "plt.ylabel('FIN_Flag_Percentage')\n",
    "plt.title('Top 3 Destinations with Highest FIN Flag Percentage')\n",
    "plt.show()\n",
    "\n",
    "\n"
   ]
  },
  {
   "cell_type": "code",
   "execution_count": 18,
   "id": "0f645715",
   "metadata": {},
   "outputs": [
    {
     "name": "stderr",
     "output_type": "stream",
     "text": [
      "\r",
      "[Stage 32:>                                                         (0 + 4) / 4]\r"
     ]
    },
    {
     "name": "stdout",
     "output_type": "stream",
     "text": [
      "+----+-----+-------------------+\n",
      "|year|month|            avg_c32|\n",
      "+----+-----+-------------------+\n",
      "|null| null|0.02659418734949813|\n",
      "+----+-----+-------------------+\n",
      "\n"
     ]
    },
    {
     "name": "stderr",
     "output_type": "stream",
     "text": [
      "\r",
      "[Stage 32:=============================>                            (2 + 2) / 4]\r",
      "\r",
      "                                                                                \r"
     ]
    }
   ],
   "source": [
    "#Student THREE Querry 1\n",
    "# select the _c32 column and calculates the average value of _c32 as avg_c32.\n",
    "# also extracts the year and month values from the _c32 column using the YEAR() and MONTH() functions respectively\n",
    "# and groups the resulting data by the unique combinations of year and month using the GROUP BY clause.\n",
    "\n",
    "result3 = spark.sql(\"SELECT YEAR(_c32) AS year, MONTH(_c32) AS month, AVG(_c32) AS avg_c32 FROM my_table GROUP BY year, month;\")\n",
    "\n",
    "# display the result\n",
    "result3.show()"
   ]
  },
  {
   "cell_type": "code",
   "execution_count": 19,
   "id": "206fcbd1",
   "metadata": {},
   "outputs": [
    {
     "name": "stdout",
     "output_type": "stream",
     "text": [
      "23/03/03 13:20:51 WARN WindowExec: No Partition Defined for Window operation! Moving all data to a single partition, this can cause serious performance degradation.\n",
      "23/03/03 13:20:51 WARN WindowExec: No Partition Defined for Window operation! Moving all data to a single partition, this can cause serious performance degradation.\n",
      "23/03/03 13:20:51 WARN WindowExec: No Partition Defined for Window operation! Moving all data to a single partition, this can cause serious performance degradation.\n"
     ]
    },
    {
     "name": "stderr",
     "output_type": "stream",
     "text": [
      "[Stage 35:===========================================>              (3 + 1) / 4]\r"
     ]
    },
    {
     "name": "stdout",
     "output_type": "stream",
     "text": [
      "23/03/03 13:20:54 WARN WindowExec: No Partition Defined for Window operation! Moving all data to a single partition, this can cause serious performance degradation.\n",
      "23/03/03 13:20:54 WARN WindowExec: No Partition Defined for Window operation! Moving all data to a single partition, this can cause serious performance degradation.\n",
      "23/03/03 13:20:54 WARN WindowExec: No Partition Defined for Window operation! Moving all data to a single partition, this can cause serious performance degradation.\n",
      "23/03/03 13:20:54 WARN WindowExec: No Partition Defined for Window operation! Moving all data to a single partition, this can cause serious performance degradation.\n"
     ]
    },
    {
     "name": "stderr",
     "output_type": "stream",
     "text": [
      "\r",
      "                                                                                \r"
     ]
    },
    {
     "name": "stdout",
     "output_type": "stream",
     "text": [
      "+----------------+-----------------+-------------------+\n",
      "|           Label|Flow_Duration_sum|       percent_rank|\n",
      "+----------------+-----------------+-------------------+\n",
      "|Subflow Bwd Pkts|             null|                1.0|\n",
      "|             992|       2.227927E7| 0.9331983805668016|\n",
      "|              99|    1.815992483E9|0.11538461538461539|\n",
      "|             986|      7.5840378E7| 0.7449392712550608|\n",
      "|              98|     1.75879592E9|0.11639676113360324|\n",
      "|             979|     1.16915129E8| 0.5323886639676113|\n",
      "|             977|     1.38568532E8|0.44129554655870445|\n",
      "|             972|      7.0106186E7| 0.7742914979757085|\n",
      "|              97|    2.790968781E9|0.09919028340080972|\n",
      "|             963|     2.36489947E8| 0.3390688259109312|\n",
      "|             962|       6.501564E7| 0.8390688259109311|\n",
      "|              96|    3.209085086E9|0.09817813765182186|\n",
      "|             958|     1.16790911E8| 0.5354251012145749|\n",
      "|             955|      6.7113487E7| 0.8076923076923077|\n",
      "|             953|      9.5498292E7| 0.6892712550607287|\n",
      "|             951|      6.3471425E7| 0.8603238866396761|\n",
      "|              95|    1.935718853E9|0.11336032388663968|\n",
      "|             949|      6.5616035E7| 0.8289473684210527|\n",
      "|             948|      6.5843503E7| 0.8248987854251012|\n",
      "|             945|      5.3413036E7| 0.8917004048582996|\n",
      "+----------------+-----------------+-------------------+\n",
      "only showing top 20 rows\n",
      "\n",
      "23/03/03 13:20:54 WARN WindowExec: No Partition Defined for Window operation! Moving all data to a single partition, this can cause serious performance degradation.\n",
      "23/03/03 13:20:54 WARN WindowExec: No Partition Defined for Window operation! Moving all data to a single partition, this can cause serious performance degradation.\n"
     ]
    },
    {
     "name": "stderr",
     "output_type": "stream",
     "text": [
      "[Stage 41:==============>                                           (1 + 3) / 4]\r"
     ]
    },
    {
     "name": "stdout",
     "output_type": "stream",
     "text": [
      "23/03/03 13:20:56 WARN WindowExec: No Partition Defined for Window operation! Moving all data to a single partition, this can cause serious performance degradation.\n",
      "23/03/03 13:20:56 WARN WindowExec: No Partition Defined for Window operation! Moving all data to a single partition, this can cause serious performance degradation.\n",
      "23/03/03 13:20:57 WARN WindowExec: No Partition Defined for Window operation! Moving all data to a single partition, this can cause serious performance degradation.\n",
      "23/03/03 13:20:57 WARN WindowExec: No Partition Defined for Window operation! Moving all data to a single partition, this can cause serious performance degradation.\n"
     ]
    },
    {
     "name": "stderr",
     "output_type": "stream",
     "text": [
      "\r",
      "                                                                                \r"
     ]
    },
    {
     "data": {
      "image/png": "[encoded data removed]",
      "text/plain": [
       "<Figure size 432x288 with 1 Axes>"
      ]
     },
     "metadata": {},
     "output_type": "display_data"
    }
   ],
   "source": [
    "#Student THREE Querry 2\n",
    "# select the _c65 column and calculates the total sum of _c3 as Flow_Duration_sum.\n",
    "# use PERCENT_RANK() window function to calculate the percentile rank of each row \n",
    "# order in descending order.\n",
    "\n",
    "result3 = spark.sql(\"SELECT my_table._c65 AS Label, SUM(my_table._c3) AS Flow_Duration_sum, PERCENT_RANK() OVER (ORDER BY SUM(my_table._c3) DESC) AS percent_rank FROM my_table GROUP BY Label ORDER BY Label DESC\")\n",
    "\n",
    "# display the result\n",
    "result3.show()\n",
    "\n",
    "result3 = result3.toPandas()\n",
    "result3 = result3.head(3)\n",
    "plt.plot(result3['percent_rank'], result3['Flow_Duration_sum'])\n",
    "plt.show()\n"
   ]
  },
  {
   "cell_type": "code",
   "execution_count": 20,
   "id": "147eed50",
   "metadata": {},
   "outputs": [
    {
     "name": "stderr",
     "output_type": "stream",
     "text": [
      "[Stage 47:=============================>                            (2 + 2) / 4]\r"
     ]
    },
    {
     "name": "stdout",
     "output_type": "stream",
     "text": [
      "+----+--------+\n",
      "| _c6|count_c6|\n",
      "+----+--------+\n",
      "|   0|  455846|\n",
      "|1912|   30519|\n",
      "|1928|   30093|\n",
      "|1138|   24981|\n",
      "|1148|   24772|\n",
      "| 161|   21230|\n",
      "|  97|   20958|\n",
      "|  31|   17349|\n",
      "|1944|   16465|\n",
      "|  77|   14679|\n",
      "+----+--------+\n",
      "\n"
     ]
    },
    {
     "name": "stderr",
     "output_type": "stream",
     "text": [
      "\r",
      "                                                                                \r"
     ]
    }
   ],
   "source": [
    "#Student FOUR Querry 1\n",
    "# select the _c6 column and calculates the count of each unique value in that column as count_c6.\n",
    "#  group the resulting data by the unique values in the _c6 column using the GROUP BY clause\n",
    "#  and then sorts the data in descending order based on the count_c6 column. \n",
    "\n",
    "result4 = spark.sql(\"SELECT _c6, COUNT(_c6) AS count_c6 FROM my_table GROUP BY _c6 ORDER BY count_c6 DESC LIMIT 10\")\n",
    "\n",
    "# display the result\n",
    "result4.show()"
   ]
  },
  {
   "cell_type": "code",
   "execution_count": 21,
   "id": "c20fc25b",
   "metadata": {},
   "outputs": [
    {
     "name": "stderr",
     "output_type": "stream",
     "text": [
      "                                                                                \r"
     ]
    },
    {
     "name": "stdout",
     "output_type": "stream",
     "text": [
      "+-----+-------------------+---------+--------------------+\n",
      "|Label|Total_Flow_Duration|Num_Flows|   Avg_Flow_Duration|\n",
      "+-----+-------------------+---------+--------------------+\n",
      "|   14|   8.46646294654E11|     8785| 9.637408021104155E7|\n",
      "|   15|   5.11130332273E11|     5620| 9.094845769982207E7|\n",
      "|   16|   4.60722590395E11|     4697| 9.808869286672343E7|\n",
      "|   17|   3.85534952396E11|     3777|1.0207438506645486E8|\n",
      "|    7|   3.04331835866E11|    75537|   4028910.810146021|\n",
      "|   18|   2.91429897621E11|     2816|1.0349073068927556E8|\n",
      "|   13|     2.878266521E11|     4455|6.4607553782267116E7|\n",
      "|   12|   2.72119592912E11|     4383| 6.208523680401552E7|\n",
      "|   19|   2.62936252806E11|     2584|1.0175551579179567E8|\n",
      "|   20|   2.20478506803E11|    32243|   6838027.069534472|\n",
      "|    4|   1.82044406675E11|    53977|  3372629.2064212533|\n",
      "|   21|   1.63595417151E11|     6601|2.4783429351764884E7|\n",
      "|   11|   1.62525178167E11|     4978| 3.264868986882282E7|\n",
      "|    1|   1.45164091212E11|   515372|  281668.56408962846|\n",
      "|   22|   1.35213080142E11|    59867|  2258557.8055021963|\n",
      "|    9|   1.27260120584E11|     9667|1.3164386116064964E7|\n",
      "|    8|   1.22153420345E11|    14445|    8456450.00657667|\n",
      "|   10|   1.07724958425E11|     5034| 2.139947525327771E7|\n",
      "|    5|    9.9047941522E10|    22169|   4467857.888132077|\n",
      "|    6|     9.005660206E10|     4583| 1.965014227798385E7|\n",
      "+-----+-------------------+---------+--------------------+\n",
      "only showing top 20 rows\n",
      "\n"
     ]
    },
    {
     "name": "stderr",
     "output_type": "stream",
     "text": [
      "                                                                                \r"
     ]
    },
    {
     "data": {
      "image/png": "[encoded data removed]",
      "text/plain": [
       "<Figure size 432x288 with 1 Axes>"
      ]
     },
     "metadata": {},
     "output_type": "display_data"
    }
   ],
   "source": [
    "#Student FOUR Querry 2\n",
    "# calculate the total flow duration, number of flows, and average flow duration for each unique value of the _c65 (Label) column in the my_table dataframe\n",
    "result4 = spark.sql(\"SELECT my_table._c65 AS Label, SUM(my_table._c3) as Total_Flow_Duration, COUNT(*) as Num_Flows, AVG(my_table._c3) as Avg_Flow_Duration FROM my_table GROUP BY Label ORDER BY Total_Flow_Duration DESC\")\n",
    "\n",
    "# display the result\n",
    "result4.show()\n",
    "\n",
    "# Plot Graph\n",
    "\n",
    "result4 = result4.toPandas()\n",
    "result4 = result4.head(3)\n",
    "plt.plot(result4['Label'], result4['Total_Flow_Duration'], result4['Num_Flows'])\n",
    "plt.show()"
   ]
  },
  {
   "cell_type": "markdown",
   "id": "8bfc6c45",
   "metadata": {},
   "source": [
    "# Task 2 - Part1: PySpark [45 marks]"
   ]
  },
  {
   "cell_type": "code",
   "execution_count": 32,
   "id": "de517f44",
   "metadata": {},
   "outputs": [
    {
     "name": "stderr",
     "output_type": "stream",
     "text": [
      "[Stage 70:=============================>                            (2 + 2) / 4]\r"
     ]
    },
    {
     "name": "stdout",
     "output_type": "stream",
     "text": [
      "+--------------------+----------------------------+\n",
      "|avg(TotLen Fwd Pkts)|stddev_samp(TotLen Fwd Pkts)|\n",
      "+--------------------+----------------------------+\n",
      "|  447.99364280094414|          15735.414790849307|\n",
      "+--------------------+----------------------------+\n",
      "\n"
     ]
    },
    {
     "name": "stderr",
     "output_type": "stream",
     "text": [
      "\r",
      "                                                                                \r"
     ]
    }
   ],
   "source": [
    "## Student 1\n",
    "# Analytical method 1: Calculate mean and standard deviation of a column\n",
    "from pyspark.sql.functions import mean, stddev\n",
    "df.select(mean('TotLen Fwd Pkts'), stddev('TotLen Fwd Pkts')).show()\n",
    "import pyspark.sql.functions as f\n"
   ]
  },
  {
   "cell_type": "code",
   "execution_count": 33,
   "id": "94a49995",
   "metadata": {},
   "outputs": [
    {
     "name": "stderr",
     "output_type": "stream",
     "text": [
      "                                                                                \r"
     ]
    },
    {
     "name": "stdout",
     "output_type": "stream",
     "text": [
      "+------------------------+\n",
      "|var_pop(TotLen Fwd Pkts)|\n",
      "+------------------------+\n",
      "|     2.476030425069664E8|\n",
      "+------------------------+\n",
      "\n"
     ]
    },
    {
     "name": "stderr",
     "output_type": "stream",
     "text": [
      "                                                                                \r"
     ]
    },
    {
     "name": "stdout",
     "output_type": "stream",
     "text": [
      "+------------------------+\n",
      "|var_pop(Fwd Pkt Len Max)|\n",
      "+------------------------+\n",
      "|       82754.69795940533|\n",
      "+------------------------+\n",
      "\n"
     ]
    },
    {
     "name": "stderr",
     "output_type": "stream",
     "text": [
      "                                                                                \r"
     ]
    },
    {
     "name": "stdout",
     "output_type": "stream",
     "text": [
      "+---------------------+\n",
      "|var_pop(Tot Bwd Pkts)|\n",
      "+---------------------+\n",
      "|   10997.324778550945|\n",
      "+---------------------+\n",
      "\n"
     ]
    },
    {
     "data": {
      "image/png": "[encoded data removed]",
      "text/plain": [
       "<Figure size 640x480 with 1 Axes>"
      ]
     },
     "metadata": {},
     "output_type": "display_data"
    }
   ],
   "source": [
    "## Student 1\n",
    "# Analytical method 2: Get the variance of each feature\n",
    "\n",
    "df.select(f.var_pop(\"TotLen Fwd Pkts\")).show()\n",
    "df.select(f.var_pop(\"Fwd Pkt Len Max\")).show()\n",
    "df.select(f.var_pop(\"Tot Bwd Pkts\")).show()\n",
    "\n",
    "import matplotlib.pyplot as plt\n",
    "\n",
    "# Plot a histogram of the data\n",
    "plt.hist(\"Fwd Pkt Len Max\", bins=10)\n",
    "plt.xlabel('Value')\n",
    "plt.ylabel('Frequency')\n",
    "plt.title('Histogram of Data')\n",
    "plt.show()\n"
   ]
  },
  {
   "cell_type": "code",
   "execution_count": 34,
   "id": "b93579c2",
   "metadata": {},
   "outputs": [
    {
     "name": "stderr",
     "output_type": "stream",
     "text": [
      "                                                                                \r"
     ]
    },
    {
     "name": "stdout",
     "output_type": "stream",
     "text": [
      "+-----------------------------------+\n",
      "|corr(TotLen Fwd Pkts, Tot Bwd Pkts)|\n",
      "+-----------------------------------+\n",
      "|                0.06120321235795348|\n",
      "+-----------------------------------+\n",
      "\n"
     ]
    },
    {
     "data": {
      "image/png": "[encoded data removed]",
      "text/plain": [
       "<Figure size 640x480 with 1 Axes>"
      ]
     },
     "metadata": {},
     "output_type": "display_data"
    }
   ],
   "source": [
    "## Student 1\n",
    "# Analytical method 3:  Calculate correlation between two columns\n",
    "\n",
    "from pyspark.sql.functions import corr\n",
    "df.select(corr('TotLen Fwd Pkts', 'Tot Bwd Pkts')).show()\n",
    "\n",
    "# Plot a scatter plot of the data\n",
    "plt.scatter(\"TotLen Fwd Pkts\", \"Tot Bwd Pkts\")\n",
    "plt.xlabel('X Data')\n",
    "plt.ylabel('Y Data')\n",
    "plt.title('Scatter Plot of Data')\n",
    "plt.show()"
   ]
  },
  {
   "cell_type": "code",
   "execution_count": 28,
   "id": "e412b9cf",
   "metadata": {},
   "outputs": [
    {
     "name": "stderr",
     "output_type": "stream",
     "text": [
      "[Stage 39:>                                                         (0 + 4) / 4]\r"
     ]
    },
    {
     "name": "stdout",
     "output_type": "stream",
     "text": [
      "23/03/05 01:34:35 WARN InstanceBuilder$NativeBLAS: Failed to load implementation from:dev.ludovic.netlib.blas.JNIBLAS\n",
      "23/03/05 01:34:35 WARN InstanceBuilder$NativeBLAS: Failed to load implementation from:dev.ludovic.netlib.blas.ForeignLinkerBLAS\n",
      "23/03/05 01:34:35 WARN InstanceBuilder$JavaBLAS: Failed to load implementation from:dev.ludovic.netlib.blas.VectorBLAS\n"
     ]
    },
    {
     "name": "stderr",
     "output_type": "stream",
     "text": [
      "[Stage 45:>                                                         (0 + 1) / 1]\r"
     ]
    },
    {
     "name": "stdout",
     "output_type": "stream",
     "text": [
      "23/03/05 01:35:40 WARN Executor: Managed memory leak detected; size = 87197758 bytes, task 0.0 in stage 45.0 (TID 83)\n"
     ]
    },
    {
     "name": "stderr",
     "output_type": "stream",
     "text": [
      "[Stage 51:>                                                         (0 + 1) / 1]\r"
     ]
    },
    {
     "name": "stdout",
     "output_type": "stream",
     "text": [
      "23/03/05 01:35:59 WARN Executor: Managed memory leak detected; size = 87197758 bytes, task 0.0 in stage 51.0 (TID 88)\n"
     ]
    },
    {
     "name": "stderr",
     "output_type": "stream",
     "text": [
      "[Stage 54:===========================================>              (3 + 1) / 4]\r"
     ]
    },
    {
     "name": "stdout",
     "output_type": "stream",
     "text": [
      "Pearson correlation matrix:\n",
      "DenseMatrix([[1.        , 0.88443472, 0.05929343, 0.87612018],\n",
      "             [0.88443472, 1.        , 0.06120321, 0.99683043],\n",
      "             [0.05929343, 0.06120321, 1.        , 0.01238939],\n",
      "             [0.87612018, 0.99683043, 0.01238939, 1.        ]])\n",
      "Spearman correlation matrix:\n",
      "DenseMatrix([[1.        , 0.66143616, 0.78039812, 0.72290872],\n",
      "             [0.66143616, 1.        , 0.81857765, 0.86919709],\n",
      "             [0.78039812, 0.81857765, 1.        , 0.93890483],\n",
      "             [0.72290872, 0.86919709, 0.93890483, 1.        ]])\n"
     ]
    },
    {
     "name": "stderr",
     "output_type": "stream",
     "text": [
      "\r",
      "                                                                                \r"
     ]
    }
   ],
   "source": [
    "## Student 2\n",
    "# Analytical method 1: Get correlation\n",
    "\n",
    "# Import the necessary functions and libraries\n",
    "from pyspark.ml.feature import StringIndexer, VectorAssembler\n",
    "from pyspark.ml.linalg import Vectors\n",
    "from pyspark.ml.stat import Correlation\n",
    "\n",
    "\n",
    "\n",
    "# Select the necessary columns and cast them to float data type\n",
    "selected_columns = [\"Tot Fwd Pkts\", \"Tot Bwd Pkts\", \"TotLen Fwd Pkts\", \"TotLen Bwd Pkts\", \"Label\"]\n",
    "LR_data = df.select(*(f.col(col).cast(\"float\").alias(col) for col in selected_columns))\n",
    "\n",
    "# Create a string indexer to encode the target variable\n",
    "indexer = StringIndexer(inputCol=\"Label\", outputCol=\"label\")\n",
    "indexed = indexer.fit(LR_data).transform(LR_data)\n",
    "\n",
    "# Create a vector assembler to combine the feature columns into a single vector column\n",
    "assembler = VectorAssembler(inputCols=[\"Tot Fwd Pkts\", \"Tot Bwd Pkts\", \"TotLen Fwd Pkts\", \"TotLen Bwd Pkts\"],\n",
    "                            outputCol=\"features\")\n",
    "output2 = assembler.transform(indexed)\n",
    "\n",
    "# Calculate the correlation matrix using Pearson and Spearman methods\n",
    "pearson_corr = Correlation.corr(output2, \"features\").head()[0]\n",
    "spearman_corr = Correlation.corr(output2, \"features\", \"spearman\").head()[0]\n",
    "\n",
    "# Print the correlation matrices\n",
    "print(\"Pearson correlation matrix:\\n\" + str(pearson_corr))\n",
    "print(\"Spearman correlation matrix:\\n\" + str(spearman_corr))\n"
   ]
  },
  {
   "cell_type": "code",
   "execution_count": 42,
   "id": "f11cd71c",
   "metadata": {},
   "outputs": [
    {
     "name": "stderr",
     "output_type": "stream",
     "text": [
      "[Stage 586:==========================================>              (3 + 1) / 4]\r"
     ]
    },
    {
     "name": "stdout",
     "output_type": "stream",
     "text": [
      "+-----------------------+------------------+\n",
      "|kurtosis(Flow Duration)|kurtosis(Dst Port)|\n",
      "+-----------------------+------------------+\n",
      "|     383063.25407183444| 6.979638405978374|\n",
      "+-----------------------+------------------+\n",
      "\n"
     ]
    },
    {
     "name": "stderr",
     "output_type": "stream",
     "text": [
      "\r",
      "                                                                                \r"
     ]
    }
   ],
   "source": [
    "## Student 2\n",
    "# Analytical method 2:Calculating the kurtosis of a column \n",
    "from pyspark.sql.functions import kurtosis\n",
    "df.select(kurtosis(\"Flow Duration\") , kurtosis(\"Dst Port\")).show()"
   ]
  },
  {
   "cell_type": "code",
   "execution_count": 43,
   "id": "aa57a267",
   "metadata": {},
   "outputs": [
    {
     "name": "stderr",
     "output_type": "stream",
     "text": [
      "                                                                                \r"
     ]
    },
    {
     "name": "stdout",
     "output_type": "stream",
     "text": [
      "+-----+\n",
      "|range|\n",
      "+-----+\n",
      "|996.0|\n",
      "+-----+\n",
      "\n"
     ]
    }
   ],
   "source": [
    "## Student 2\n",
    "# Analytical method 3:Calculation of the range\n",
    "\n",
    "from pyspark.sql.functions import max, min\n",
    "\n",
    "# Select the maximum and minimum value of the 'Fwd Header Len' column and give them aliases.\n",
    "max_val = df.select(max('Fwd Header Len').alias('max_value'))\n",
    "min_val = df.select(min('Fwd Header Len').alias('min_value'))\n",
    "\n",
    "# Calculate the range by subtracting the minimum value from the maximum value and display the result.\n",
    "range_val = max_val.crossJoin(min_val).select((max_val.max_value - min_val.min_value).alias('range'))\n",
    "range_val.show()\n"
   ]
  },
  {
   "cell_type": "code",
   "execution_count": 44,
   "id": "5eb79d0d",
   "metadata": {},
   "outputs": [
    {
     "name": "stderr",
     "output_type": "stream",
     "text": [
      "[Stage 595:==========================================>              (3 + 1) / 4]\r"
     ]
    },
    {
     "name": "stdout",
     "output_type": "stream",
     "text": [
      "+------------------+\n",
      "|skewness(Dst Port)|\n",
      "+------------------+\n",
      "| 2.967117067332876|\n",
      "+------------------+\n",
      "\n"
     ]
    },
    {
     "name": "stderr",
     "output_type": "stream",
     "text": [
      "\r",
      "                                                                                \r"
     ]
    }
   ],
   "source": [
    "## Student 3\n",
    "# Analytical method 1: Calculating the skewness of a column in the dataset\n",
    "from pyspark.sql.functions import skewness\n",
    "df.select(skewness(\"Dst Port\")).show()"
   ]
  },
  {
   "cell_type": "code",
   "execution_count": 45,
   "id": "f410b4c2",
   "metadata": {},
   "outputs": [
    {
     "name": "stderr",
     "output_type": "stream",
     "text": [
      "                                                                                \r"
     ]
    },
    {
     "name": "stdout",
     "output_type": "stream",
     "text": [
      "+-----------------------------+\n",
      "|corr(Flow Duration, Dst Port)|\n",
      "+-----------------------------+\n",
      "|         -0.00121288872945...|\n",
      "+-----------------------------+\n",
      "\n"
     ]
    },
    {
     "name": "stderr",
     "output_type": "stream",
     "text": [
      "                                                                                \r"
     ]
    },
    {
     "name": "stdout",
     "output_type": "stream",
     "text": [
      "+----------------------------+\n",
      "|corr(Dst Port, Tot Bwd Pkts)|\n",
      "+----------------------------+\n",
      "|        -0.01905836413916519|\n",
      "+----------------------------+\n",
      "\n"
     ]
    },
    {
     "name": "stderr",
     "output_type": "stream",
     "text": [
      "\r",
      "[Stage 604:>                                                        (0 + 4) / 4]\r"
     ]
    },
    {
     "name": "stdout",
     "output_type": "stream",
     "text": [
      "+----------------------------+\n",
      "|corr(Tot Fwd Pkts, Dst Port)|\n",
      "+----------------------------+\n",
      "|        -0.02792523567979...|\n",
      "+----------------------------+\n",
      "\n"
     ]
    },
    {
     "name": "stderr",
     "output_type": "stream",
     "text": [
      "\r",
      "[Stage 604:==========================================>              (3 + 1) / 4]\r",
      "\r",
      "                                                                                \r"
     ]
    }
   ],
   "source": [
    "## Student 3\n",
    "# Analytical method 2: Calculate correlation of two column variables\n",
    "df.select(f.corr(\"Flow Duration\", \"Dst Port\")).show()\n",
    "df.select(f.corr(\"Dst Port\", \"Tot Bwd Pkts\")).show()\n",
    "df.select(f.corr(\"Tot Fwd Pkts\", \"Dst Port\")).show()"
   ]
  },
  {
   "cell_type": "code",
   "execution_count": 46,
   "id": "8f2a7ebf",
   "metadata": {},
   "outputs": [
    {
     "name": "stderr",
     "output_type": "stream",
     "text": [
      "                                                                                \r"
     ]
    },
    {
     "name": "stdout",
     "output_type": "stream",
     "text": [
      "+------------------------+\n",
      "|Tot Fwd Pkts percentiles|\n",
      "+------------------------+\n",
      "|              [1.0, 7.0]|\n",
      "+------------------------+\n",
      "\n"
     ]
    },
    {
     "name": "stderr",
     "output_type": "stream",
     "text": [
      "[Stage 610:==============>                                          (1 + 3) / 4]\r"
     ]
    },
    {
     "name": "stdout",
     "output_type": "stream",
     "text": [
      "+------------------------+\n",
      "|Tot Bwd Pkts percentiles|\n",
      "+------------------------+\n",
      "|              [1.0, 6.0]|\n",
      "+------------------------+\n",
      "\n"
     ]
    },
    {
     "name": "stderr",
     "output_type": "stream",
     "text": [
      "[Stage 615:>                                                        (0 + 1) / 1]\r"
     ]
    },
    {
     "name": "stdout",
     "output_type": "stream",
     "text": [
      "+-------------------------+\n",
      "|Flow Duration percentiles|\n",
      "+-------------------------+\n",
      "|          [7.0, 406669.0]|\n",
      "+-------------------------+\n",
      "\n"
     ]
    },
    {
     "name": "stderr",
     "output_type": "stream",
     "text": [
      "\r",
      "                                                                                \r"
     ]
    }
   ],
   "source": [
    "## Student 3\n",
    "# Analytical method 3: Calculating upper and lower percentile of columns\n",
    "from pyspark.sql.functions import expr\n",
    "\n",
    "percentile_cols = ['Tot Fwd Pkts', 'Tot Bwd Pkts', 'Flow Duration']\n",
    "\n",
    "for col in percentile_cols:\n",
    "    df.agg(expr(f'percentile(`{col}`, array(0.25, 0.75))').alias(f'{col} percentiles')).show()\n"
   ]
  },
  {
   "cell_type": "code",
   "execution_count": 50,
   "id": "04665dab",
   "metadata": {},
   "outputs": [
    {
     "name": "stderr",
     "output_type": "stream",
     "text": [
      "                                                                                \r"
     ]
    },
    {
     "name": "stdout",
     "output_type": "stream",
     "text": [
      "+-------------------------------+\n",
      "|Fwd IAT Mean standard deviation|\n",
      "+-------------------------------+\n",
      "|            3.332505192542535E8|\n",
      "+-------------------------------+\n",
      "\n"
     ]
    },
    {
     "name": "stderr",
     "output_type": "stream",
     "text": [
      "\r",
      "[Stage 619:>                                                        (0 + 4) / 4]\r"
     ]
    },
    {
     "name": "stdout",
     "output_type": "stream",
     "text": [
      "+--------------------+\n",
      "|Fwd IAT Mean average|\n",
      "+--------------------+\n",
      "|   1775582.605887201|\n",
      "+--------------------+\n",
      "\n"
     ]
    },
    {
     "name": "stderr",
     "output_type": "stream",
     "text": [
      "\r",
      "[Stage 619:==========================================>              (3 + 1) / 4]\r",
      "\r",
      "                                                                                \r"
     ]
    }
   ],
   "source": [
    "## Student 4\n",
    "# Analytical method 1: calculate the mean and standard deviation of the flow duration for each label\n",
    "from pyspark.sql.functions import stddev, avg\n",
    "\n",
    "cols = ['Fwd IAT Mean']\n",
    "\n",
    "for col in cols:\n",
    "    df.select(stddev(col).alias(f'{col} standard deviation')).show()\n",
    "    df.select(avg(col).alias(f'{col} average')).show()\n"
   ]
  },
  {
   "cell_type": "code",
   "execution_count": 51,
   "id": "969ca4ba",
   "metadata": {},
   "outputs": [
    {
     "name": "stderr",
     "output_type": "stream",
     "text": [
      "[Stage 625:============================>                            (2 + 2) / 4]\r"
     ]
    },
    {
     "name": "stdout",
     "output_type": "stream",
     "text": [
      "DenseMatrix([[ 1.00000000e+00, -1.61266183e-04],\n",
      "             [-1.61266183e-04,  1.00000000e+00]])\n"
     ]
    },
    {
     "name": "stderr",
     "output_type": "stream",
     "text": [
      "\r",
      "                                                                                \r"
     ]
    }
   ],
   "source": [
    "## Student 4\n",
    "# Analytical method 2: correlation coefficient with pearson's technique\n",
    "from pyspark.ml.feature import VectorAssembler\n",
    "from pyspark.ml.linalg import Vectors\n",
    "from pyspark.ml.stat import Correlation\n",
    "\n",
    "corr_data = df.select(f.col(\"Fwd IAT Mean\").cast(\"float\").alias(\"TFP\"),\n",
    "                          f.col(\"Tot Bwd Pkts\").cast(\"float\").alias(\"TBP\"))\n",
    "\n",
    "# Create a features vector\n",
    "assembler = VectorAssembler(\n",
    "    inputCols=[\"TFP\", \"TBP\"],\n",
    "    outputCol=\"features\")\n",
    "dataset = assembler.transform(corr_data)\n",
    "\n",
    "# Calculate Pearson correlation coefficient\n",
    "pearsonCorr = Correlation.corr(dataset, 'features', 'pearson').collect()[0][0]\n",
    "print(str(pearsonCorr).replace('nan', 'NaN'))\n"
   ]
  },
  {
   "cell_type": "code",
   "execution_count": 42,
   "id": "5ee606dc",
   "metadata": {
    "scrolled": true
   },
   "outputs": [
    {
     "name": "stderr",
     "output_type": "stream",
     "text": [
      "[Stage 106:==========================================>              (3 + 1) / 4]\r"
     ]
    },
    {
     "name": "stdout",
     "output_type": "stream",
     "text": [
      "+------------------------+\n",
      "|stddev(Subflow Fwd Byts)|\n",
      "+------------------------+\n",
      "|      15735.414790849307|\n",
      "+------------------------+\n",
      "\n"
     ]
    },
    {
     "name": "stderr",
     "output_type": "stream",
     "text": [
      "\r",
      "                                                                                \r"
     ]
    }
   ],
   "source": [
    "## Student 4\n",
    "# Analytical method 3: Get the standard deviation\n",
    "df.selectExpr(\"stddev(`Subflow Fwd Byts`)\").show()\n"
   ]
  },
  {
   "cell_type": "code",
   "execution_count": null,
   "id": "b864feb3",
   "metadata": {},
   "outputs": [],
   "source": []
  },
  {
   "cell_type": "markdown",
   "id": "9ccd5851",
   "metadata": {},
   "source": [
    "# Task 2 - Part2: PySpark [15 marks]"
   ]
  },
  {
   "cell_type": "code",
   "execution_count": null,
   "id": "57bf5de6",
   "metadata": {},
   "outputs": [],
   "source": []
  },
  {
   "cell_type": "code",
   "execution_count": 24,
   "id": "f179341e",
   "metadata": {},
   "outputs": [],
   "source": [
    "#student 1\n",
    "import pyspark.sql.functions as f \n",
    "import pandas as pd\n",
    "import matplotlib.pyplot as plt"
   ]
  },
  {
   "cell_type": "code",
   "execution_count": 25,
   "id": "1fb1c326",
   "metadata": {},
   "outputs": [
    {
     "name": "stderr",
     "output_type": "stream",
     "text": [
      "                                                                                \r"
     ]
    },
    {
     "name": "stdout",
     "output_type": "stream",
     "text": [
      "  summary            Dst Port           Protocol            Timestamp  \\\n",
      "0   count             1048575            1048575              1048575   \n",
      "1    mean   4876.261774312758  8.107557399327659                 None   \n",
      "2  stddev  14443.436003519171   4.46062464438205                 None   \n",
      "3     min                   0                  0  05/01/1970 03:01:17   \n",
      "4     max                9999                  6  14/02/2018 12:59:59   \n",
      "\n",
      "          Flow Duration        Tot Fwd Pkts        Tot Bwd Pkts  \\\n",
      "0               1048575             1048575             1048575   \n",
      "1     6255554.608775719   6.206622320768663   7.211191378775958   \n",
      "2  1.2602911086328785E9  44.478512313301124  104.86818042875132   \n",
      "3          -11873000000                   1                   0   \n",
      "4                999998                 993                 992   \n",
      "\n",
      "      TotLen Fwd Pkts    TotLen Bwd Pkts     Fwd Pkt Len Max  ...  \\\n",
      "0             1048575            1048575             1048575  ...   \n",
      "1  447.99364280094414  4521.803392222779  174.57359273299477  ...   \n",
      "2  15735.414790849307  151502.1211764956   287.6713000641285  ...   \n",
      "3                   0                  0                   0  ...   \n",
      "4                9999               9999                 999  ...   \n",
      "\n",
      "     Fwd Seg Size Min         Active Mean          Active Std  \\\n",
      "0             1048575             1048575             1048575   \n",
      "1  23.279704360679972  51524.487969143585   21361.50958699804   \n",
      "2  11.061852084114566   581558.6342225706  218640.49732394647   \n",
      "3                   0                   0                   0   \n",
      "4                   8    99999.1666666667    999966.368323455   \n",
      "\n",
      "          Active Max          Active Min            Idle Mean  \\\n",
      "0            1048575             1048575              1048575   \n",
      "1  87891.57214410033  39954.774385237106    3101206.320220606   \n",
      "2  739572.4666968074   560269.2675063498  5.414779701174505E8   \n",
      "3                  0                   0                    0   \n",
      "4            9999930               99999     9999995.81818182   \n",
      "\n",
      "               Idle Std              Idle Max              Idle Min  \\\n",
      "0               1048575               1048575               1048575   \n",
      "1     729721.7626003549     4812390.631669647    2126919.6016422287   \n",
      "2  3.8200308516858596E8  1.5221170424266853E9  1.8170133217088945E7   \n",
      "3                     0                     0                     0   \n",
      "4       99962.978549561               9999999               9999999   \n",
      "\n",
      "            Label  \n",
      "0         1048575  \n",
      "1            None  \n",
      "2            None  \n",
      "3          Benign  \n",
      "4  SSH-Bruteforce  \n",
      "\n",
      "[5 rows x 81 columns]\n"
     ]
    }
   ],
   "source": [
    "summary = df.describe().toPandas()\n",
    "# Print summary statistics\n",
    "print(summary)"
   ]
  },
  {
   "cell_type": "code",
   "execution_count": 26,
   "id": "7ae10886",
   "metadata": {},
   "outputs": [
    {
     "name": "stderr",
     "output_type": "stream",
     "text": [
      "                                                                                \r"
     ]
    },
    {
     "name": "stdout",
     "output_type": "stream",
     "text": [
      "+--------+--------+------------+------------+--------------+-----+\n",
      "|Dst Port|Protocol|Tot Fwd Pkts|Tot Bwd Pkts|  Pkt Len Mean|Label|\n",
      "+--------+--------+------------+------------+--------------+-----+\n",
      "|       0|       0|           3|           0|           0.0|    1|\n",
      "|       0|       0|           3|           0|           0.0|    1|\n",
      "|       0|       0|           3|           0|           0.0|    1|\n",
      "|      22|       6|          15|          10|135.0769230769|    1|\n",
      "|      22|       6|          14|          11|128.9230769231|    1|\n",
      "|      22|       6|          16|          12|121.1034482759|    1|\n",
      "|       0|       0|           3|           0|           0.0|    1|\n",
      "|       0|       0|           3|           0|           0.0|    1|\n",
      "|      80|       6|           5|           3| 74.8888888889|    1|\n",
      "|      80|       6|           5|           3| 76.8888888889|    1|\n",
      "|      80|       6|           5|           3| 76.8888888889|    1|\n",
      "|      80|       6|           5|           3| 74.4444444444|    1|\n",
      "|      80|       6|           5|           3| 74.8888888889|    1|\n",
      "|      80|       6|           5|           3| 73.7777777778|    1|\n",
      "|      80|       6|           5|           3| 74.8888888889|    1|\n",
      "|      80|       6|           5|           3| 74.8888888889|    1|\n",
      "|      80|       6|           5|           3| 75.5555555556|    1|\n",
      "|      80|       6|           5|           3| 74.4444444444|    1|\n",
      "|      80|       6|           5|           3| 75.7777777778|    1|\n",
      "|      80|       6|           5|           3| 75.7777777778|    1|\n",
      "+--------+--------+------------+------------+--------------+-----+\n",
      "only showing top 20 rows\n",
      "\n"
     ]
    },
    {
     "name": "stderr",
     "output_type": "stream",
     "text": [
      "[Stage 76:===========================================>              (3 + 1) / 4]\r"
     ]
    },
    {
     "name": "stdout",
     "output_type": "stream",
     "text": [
      "Accuracy: 1.0\n"
     ]
    },
    {
     "name": "stderr",
     "output_type": "stream",
     "text": [
      "\r",
      "                                                                                \r"
     ]
    }
   ],
   "source": [
    "# Random Forest\n",
    "# Student 1\n",
    "\n",
    "from pyspark.sql.functions import col, when\n",
    "from pyspark.ml.feature import VectorAssembler\n",
    "from pyspark.ml.classification import DecisionTreeClassifier\n",
    "from pyspark.ml.evaluation import MulticlassClassificationEvaluator\n",
    "\n",
    "# Load the data\n",
    "data = spark.read.csv(\"data.csv\", header=True, inferSchema=True)\n",
    "\n",
    "# Filter out rows with missing values\n",
    "data = data.dropna()\n",
    "\n",
    "# Map the labels to 0 or 1 (attack or normal)\n",
    "data = data.withColumn(\"Label\", when(col(\"Label\") == \"BENIGN\", 0).otherwise(1))\n",
    "\n",
    "# Select only the required columns\n",
    "selected_cols = [\"Dst Port\", \"Protocol\", \"Tot Fwd Pkts\", \"Tot Bwd Pkts\", \"Pkt Len Mean\"]\n",
    "data = data.select(selected_cols + [\"Label\"])\n",
    "data.show()\n",
    "\n",
    "# Assemble the features into a single vector column\n",
    "assembler = VectorAssembler(inputCols=selected_cols, outputCol=\"features\")\n",
    "data = assembler.transform(data)\n",
    "\n",
    "# Split the data into training and testing sets\n",
    "(training_data, testing_data) = data.randomSplit([0.7, 0.3], seed=42)\n",
    "\n",
    "# Train the decision tree classifier\n",
    "dt = DecisionTreeClassifier(labelCol=\"Label\", featuresCol=\"features\", maxDepth=5)\n",
    "dt_model = dt.fit(training_data)\n",
    "\n",
    "# Make predictions on the testing data\n",
    "predictions = dt_model.transform(testing_data)\n",
    "\n",
    "# Evaluate the model using the accuracy metric\n",
    "evaluator = MulticlassClassificationEvaluator(labelCol=\"Label\", predictionCol=\"prediction\", metricName=\"accuracy\")\n",
    "accuracy = evaluator.evaluate(predictions)\n",
    "\n",
    "print(f\"Accuracy: {accuracy}\")"
   ]
  },
  {
   "cell_type": "code",
   "execution_count": null,
   "id": "0b6a5ac4",
   "metadata": {},
   "outputs": [],
   "source": []
  },
  {
   "cell_type": "code",
   "execution_count": 27,
   "id": "617889c8",
   "metadata": {},
   "outputs": [
    {
     "name": "stderr",
     "output_type": "stream",
     "text": [
      "                                                                                \r"
     ]
    },
    {
     "name": "stdout",
     "output_type": "stream",
     "text": [
      "+--------+--------+------------+------------+--------------+-----+\n",
      "|Dst Port|Protocol|Tot Fwd Pkts|Tot Bwd Pkts|  Pkt Len Mean|Label|\n",
      "+--------+--------+------------+------------+--------------+-----+\n",
      "|       0|       0|           3|           0|           0.0|    1|\n",
      "|       0|       0|           3|           0|           0.0|    1|\n",
      "|       0|       0|           3|           0|           0.0|    1|\n",
      "|      22|       6|          15|          10|135.0769230769|    1|\n",
      "|      22|       6|          14|          11|128.9230769231|    1|\n",
      "|      22|       6|          16|          12|121.1034482759|    1|\n",
      "|       0|       0|           3|           0|           0.0|    1|\n",
      "|       0|       0|           3|           0|           0.0|    1|\n",
      "|      80|       6|           5|           3| 74.8888888889|    1|\n",
      "|      80|       6|           5|           3| 76.8888888889|    1|\n",
      "|      80|       6|           5|           3| 76.8888888889|    1|\n",
      "|      80|       6|           5|           3| 74.4444444444|    1|\n",
      "|      80|       6|           5|           3| 74.8888888889|    1|\n",
      "|      80|       6|           5|           3| 73.7777777778|    1|\n",
      "|      80|       6|           5|           3| 74.8888888889|    1|\n",
      "|      80|       6|           5|           3| 74.8888888889|    1|\n",
      "|      80|       6|           5|           3| 75.5555555556|    1|\n",
      "|      80|       6|           5|           3| 74.4444444444|    1|\n",
      "|      80|       6|           5|           3| 75.7777777778|    1|\n",
      "|      80|       6|           5|           3| 75.7777777778|    1|\n",
      "+--------+--------+------------+------------+--------------+-----+\n",
      "only showing top 20 rows\n",
      "\n"
     ]
    },
    {
     "name": "stderr",
     "output_type": "stream",
     "text": [
      "                                                                                \r"
     ]
    },
    {
     "name": "stdout",
     "output_type": "stream",
     "text": [
      "23/03/03 13:26:43 WARN Instrumentation: [b5f1fb82] All labels are the same value and fitIntercept=true, so the coefficients will be zeros. Training is not needed.\n"
     ]
    },
    {
     "name": "stderr",
     "output_type": "stream",
     "text": [
      "                                                                                \r"
     ]
    },
    {
     "data": {
      "image/png": "[encoded data removed]",
      "text/plain": [
       "<Figure size 432x288 with 1 Axes>"
      ]
     },
     "metadata": {},
     "output_type": "display_data"
    },
    {
     "name": "stderr",
     "output_type": "stream",
     "text": [
      "[Stage 93:===========================================>              (3 + 1) / 4]\r"
     ]
    },
    {
     "name": "stdout",
     "output_type": "stream",
     "text": [
      "AUC: 1.0\n"
     ]
    },
    {
     "name": "stderr",
     "output_type": "stream",
     "text": [
      "\r",
      "                                                                                \r"
     ]
    }
   ],
   "source": [
    "# Student 2\n",
    "# Logistics Regression\n",
    "\n",
    "from pyspark.ml.classification import LogisticRegression\n",
    "from pyspark.ml.evaluation import BinaryClassificationEvaluator\n",
    "from pyspark.ml.evaluation import BinaryClassificationEvaluator\n",
    "from pyspark.ml.feature import VectorAssembler\n",
    "from pyspark.ml.tuning import ParamGridBuilder, CrossValidator\n",
    "from pyspark.ml.tuning import CrossValidatorModel\n",
    "from pyspark.ml import Pipeline\n",
    "import matplotlib.pyplot as plt\n",
    "\n",
    "# Load the data\n",
    "data = spark.read.csv(\"data.csv\", header=True, inferSchema=True)\n",
    "\n",
    "# Filter out rows with missing values\n",
    "data = data.dropna()\n",
    "\n",
    "# Map the labels to 0 or 1 (attack or normal)\n",
    "data = data.withColumn(\"Label\", when(col(\"Label\") == \"BENIGN\", 0).otherwise(1))\n",
    "\n",
    "# Select only the required columns\n",
    "selected_cols = [\"Dst Port\", \"Protocol\", \"Tot Fwd Pkts\", \"Tot Bwd Pkts\", \"Pkt Len Mean\"]\n",
    "data = data.select(selected_cols + [\"Label\"])\n",
    "data.show()\n",
    "\n",
    "# Assemble the features into a single vector column\n",
    "assembler = VectorAssembler(inputCols=selected_cols, outputCol=\"features\")\n",
    "data = assembler.transform(data)\n",
    "\n",
    "# Split the data into training and testing sets\n",
    "(training_data, testing_data) = data.randomSplit([0.7, 0.3], seed=42)\n",
    "\n",
    "# Train the logistic regression model\n",
    "lr = LogisticRegression(labelCol=\"Label\", featuresCol=\"features\", maxIter=10, regParam=0.3, elasticNetParam=0.8)\n",
    "lr_model = lr.fit(training_data)\n",
    "\n",
    "# Make predictions on the testing data\n",
    "predictions = lr_model.transform(testing_data)\n",
    "\n",
    "# Evaluate the model using the binary classification evaluator\n",
    "evaluator = BinaryClassificationEvaluator(labelCol=\"Label\")\n",
    "\n",
    "# Calculate ROC curve\n",
    "roc = lr_model.summary.roc.toPandas()\n",
    "\n",
    "# Plot ROC curve\n",
    "plt.plot(roc['FPR'], roc['TPR'])\n",
    "plt.xlabel('False Positive Rate')\n",
    "plt.ylabel('True Positive Rate')\n",
    "plt.title('ROC Curve')\n",
    "plt.show()\n",
    "\n",
    "# Calculate AUC\n",
    "auc = evaluator.evaluate(predictions)\n",
    "\n",
    "print(f\"AUC: {auc}\")\n"
   ]
  },
  {
   "cell_type": "code",
   "execution_count": 28,
   "id": "6534e20a",
   "metadata": {},
   "outputs": [
    {
     "name": "stderr",
     "output_type": "stream",
     "text": [
      "                                                                                \r"
     ]
    },
    {
     "name": "stdout",
     "output_type": "stream",
     "text": [
      "+--------+--------+------------+------------+--------------+-----+\n",
      "|Dst Port|Protocol|Tot Fwd Pkts|Tot Bwd Pkts|  Pkt Len Mean|Label|\n",
      "+--------+--------+------------+------------+--------------+-----+\n",
      "|       0|       0|           3|           0|           0.0|    1|\n",
      "|       0|       0|           3|           0|           0.0|    1|\n",
      "|       0|       0|           3|           0|           0.0|    1|\n",
      "|      22|       6|          15|          10|135.0769230769|    1|\n",
      "|      22|       6|          14|          11|128.9230769231|    1|\n",
      "|      22|       6|          16|          12|121.1034482759|    1|\n",
      "|       0|       0|           3|           0|           0.0|    1|\n",
      "|       0|       0|           3|           0|           0.0|    1|\n",
      "|      80|       6|           5|           3| 74.8888888889|    1|\n",
      "|      80|       6|           5|           3| 76.8888888889|    1|\n",
      "|      80|       6|           5|           3| 76.8888888889|    1|\n",
      "|      80|       6|           5|           3| 74.4444444444|    1|\n",
      "|      80|       6|           5|           3| 74.8888888889|    1|\n",
      "|      80|       6|           5|           3| 73.7777777778|    1|\n",
      "|      80|       6|           5|           3| 74.8888888889|    1|\n",
      "|      80|       6|           5|           3| 74.8888888889|    1|\n",
      "|      80|       6|           5|           3| 75.5555555556|    1|\n",
      "|      80|       6|           5|           3| 74.4444444444|    1|\n",
      "|      80|       6|           5|           3| 75.7777777778|    1|\n",
      "|      80|       6|           5|           3| 75.7777777778|    1|\n",
      "+--------+--------+------------+------------+--------------+-----+\n",
      "only showing top 20 rows\n",
      "\n"
     ]
    },
    {
     "name": "stderr",
     "output_type": "stream",
     "text": [
      "[Stage 459:>                                                        (0 + 4) / 4]\r"
     ]
    },
    {
     "name": "stdout",
     "output_type": "stream",
     "text": [
      "23/03/03 13:31:24 WARN InstanceBuilder$NativeBLAS: Failed to load implementation from:dev.ludovic.netlib.blas.JNIBLAS\n",
      "23/03/03 13:31:24 WARN InstanceBuilder$NativeBLAS: Failed to load implementation from:dev.ludovic.netlib.blas.ForeignLinkerBLAS\n",
      "23/03/03 13:31:24 WARN InstanceBuilder$JavaBLAS: Failed to load implementation from:dev.ludovic.netlib.blas.VectorBLAS\n"
     ]
    },
    {
     "name": "stderr",
     "output_type": "stream",
     "text": [
      "                                                                                \r"
     ]
    },
    {
     "data": {
      "image/png": "[encoded data removed]",
      "text/plain": [
       "<Figure size 432x288 with 2 Axes>"
      ]
     },
     "metadata": {},
     "output_type": "display_data"
    },
    {
     "name": "stderr",
     "output_type": "stream",
     "text": [
      "                                                                                \r"
     ]
    },
    {
     "name": "stdout",
     "output_type": "stream",
     "text": [
      "AUC: 1.0\n"
     ]
    }
   ],
   "source": [
    "# Student 3 \n",
    "# GBT CLASSIFIER\n",
    "from pyspark.ml.classification import GBTClassifier\n",
    "from pyspark.ml.evaluation import BinaryClassificationEvaluator\n",
    "from pyspark.ml.feature import VectorAssembler\n",
    "from pyspark.ml.tuning import ParamGridBuilder, CrossValidator\n",
    "from pyspark.ml import Pipeline\n",
    "import matplotlib.pyplot as plt\n",
    "from sklearn.metrics import confusion_matrix\n",
    "import seaborn as sns\n",
    "\n",
    "# Load the data\n",
    "data = spark.read.csv(\"data.csv\", header=True, inferSchema=True)\n",
    "\n",
    "# Filter out rows with missing values\n",
    "data = data.dropna()\n",
    "\n",
    "# Map the labels to 0 or 1 (attack or normal)\n",
    "data = data.withColumn(\"Label\", when(col(\"Label\") == \"BENIGN\", 0).otherwise(1))\n",
    "\n",
    "# Select only the required columns\n",
    "selected_cols = [\"Dst Port\", \"Protocol\", \"Tot Fwd Pkts\", \"Tot Bwd Pkts\", \"Pkt Len Mean\"]\n",
    "data = data.select(selected_cols + [\"Label\"])\n",
    "data.show()\n",
    "\n",
    "# Assemble the features into a single vector column\n",
    "assembler = VectorAssembler(inputCols=selected_cols, outputCol=\"features\")\n",
    "data = assembler.transform(data)\n",
    "\n",
    "# Split the data into training and testing sets\n",
    "(training_data, testing_data) = data.randomSplit([0.7, 0.3], seed=42)\n",
    "\n",
    "# Train the GBT classifier model\n",
    "gbt = GBTClassifier(labelCol=\"Label\", featuresCol=\"features\", maxIter=50, subsamplingRate=0.8, featureSubsetStrategy=\"sqrt\")\n",
    "gbt_model = gbt.fit(training_data)\n",
    "\n",
    "# Make predictions on the testing data\n",
    "predictions = gbt_model.transform(testing_data)\n",
    "\n",
    "# Evaluate the model using the binary classification evaluator\n",
    "evaluator = BinaryClassificationEvaluator(labelCol=\"Label\")\n",
    "\n",
    "# Convert predicted labels and true labels to numpy arrays\n",
    "y_pred = np.array(predictions.select(\"prediction\").collect())\n",
    "y_true = np.array(predictions.select(\"Label\").collect())\n",
    "\n",
    "# Assuming you have true labels y_true and predicted labels y_pred\n",
    "cm = confusion_matrix(y_true, y_pred)\n",
    "\n",
    "# Plot confusion matrix using heatmap\n",
    "sns.heatmap(cm, annot=True, fmt='g')\n",
    "plt.xlabel('Predicted')\n",
    "plt.ylabel('True')\n",
    "plt.title('Confusion Matrix')\n",
    "plt.show()\n",
    "\n",
    "# Calculate AUC\n",
    "auc = evaluator.evaluate(predictions)\n",
    "\n",
    "print(f\"AUC: {auc}\")\n",
    "\n"
   ]
  },
  {
   "cell_type": "code",
   "execution_count": 29,
   "id": "fd34d36a",
   "metadata": {},
   "outputs": [
    {
     "name": "stderr",
     "output_type": "stream",
     "text": [
      "                                                                                \r"
     ]
    },
    {
     "name": "stdout",
     "output_type": "stream",
     "text": [
      "+--------+--------+------------+------------+--------------+-----+\n",
      "|Dst Port|Protocol|Tot Fwd Pkts|Tot Bwd Pkts|  Pkt Len Mean|Label|\n",
      "+--------+--------+------------+------------+--------------+-----+\n",
      "|       0|       0|           3|           0|           0.0|    1|\n",
      "|       0|       0|           3|           0|           0.0|    1|\n",
      "|       0|       0|           3|           0|           0.0|    1|\n",
      "|      22|       6|          15|          10|135.0769230769|    1|\n",
      "|      22|       6|          14|          11|128.9230769231|    1|\n",
      "|      22|       6|          16|          12|121.1034482759|    1|\n",
      "|       0|       0|           3|           0|           0.0|    1|\n",
      "|       0|       0|           3|           0|           0.0|    1|\n",
      "|      80|       6|           5|           3| 74.8888888889|    1|\n",
      "|      80|       6|           5|           3| 76.8888888889|    1|\n",
      "|      80|       6|           5|           3| 76.8888888889|    1|\n",
      "|      80|       6|           5|           3| 74.4444444444|    1|\n",
      "|      80|       6|           5|           3| 74.8888888889|    1|\n",
      "|      80|       6|           5|           3| 73.7777777778|    1|\n",
      "|      80|       6|           5|           3| 74.8888888889|    1|\n",
      "|      80|       6|           5|           3| 74.8888888889|    1|\n",
      "|      80|       6|           5|           3| 75.5555555556|    1|\n",
      "|      80|       6|           5|           3| 74.4444444444|    1|\n",
      "|      80|       6|           5|           3| 75.7777777778|    1|\n",
      "|      80|       6|           5|           3| 75.7777777778|    1|\n",
      "+--------+--------+------------+------------+--------------+-----+\n",
      "only showing top 20 rows\n",
      "\n"
     ]
    },
    {
     "name": "stderr",
     "output_type": "stream",
     "text": [
      "                                                                                \r"
     ]
    },
    {
     "data": {
      "image/png": "[encoded data removed]",
      "text/plain": [
       "<Figure size 432x288 with 2 Axes>"
      ]
     },
     "metadata": {},
     "output_type": "display_data"
    },
    {
     "name": "stderr",
     "output_type": "stream",
     "text": [
      "                                                                                \r"
     ]
    },
    {
     "name": "stdout",
     "output_type": "stream",
     "text": [
      "AUC: 1.0\n"
     ]
    }
   ],
   "source": [
    "#student 4\n",
    "# Support Vector Machines Classifier\n",
    "\n",
    "from pyspark.ml.classification import LinearSVC\n",
    "from pyspark.ml.evaluation import BinaryClassificationEvaluator\n",
    "from pyspark.ml.feature import VectorAssembler\n",
    "from pyspark.ml.tuning import ParamGridBuilder, CrossValidator\n",
    "from pyspark.ml.tuning import CrossValidatorModel\n",
    "from pyspark.ml import Pipeline\n",
    "import matplotlib.pyplot as plt\n",
    "\n",
    "# Load the data\n",
    "data = spark.read.csv(\"data.csv\", header=True, inferSchema=True)\n",
    "\n",
    "# Filter out rows with missing values\n",
    "data = data.dropna()\n",
    "\n",
    "# Map the labels to 0 or 1 (attack or normal)\n",
    "data = data.withColumn(\"Label\", when(col(\"Label\") == \"BENIGN\", 0).otherwise(1))\n",
    "\n",
    "# Select only the required columns\n",
    "selected_cols = [\"Dst Port\", \"Protocol\", \"Tot Fwd Pkts\", \"Tot Bwd Pkts\", \"Pkt Len Mean\"]\n",
    "data = data.select(selected_cols + [\"Label\"])\n",
    "data.show()\n",
    "\n",
    "# Assemble the features into a single vector column\n",
    "assembler = VectorAssembler(inputCols=selected_cols, outputCol=\"features\")\n",
    "data = assembler.transform(data)\n",
    "\n",
    "# Split the data into training and testing sets\n",
    "(training_data, testing_data) = data.randomSplit([0.7, 0.3], seed=42)\n",
    "\n",
    "# Train the SVM model\n",
    "svm = LinearSVC(labelCol=\"Label\", featuresCol=\"features\", maxIter=10, regParam=0.1, tol=1e-6)\n",
    "svm_model = svm.fit(training_data)\n",
    "\n",
    "# Make predictions on the testing data\n",
    "predictions = svm_model.transform(testing_data)\n",
    "\n",
    "# Evaluate the model using the binary classification evaluator\n",
    "evaluator = BinaryClassificationEvaluator(labelCol=\"Label\")\n",
    "\n",
    "# Convert predicted labels and true labels to numpy arrays\n",
    "y_pred = np.array(predictions.select(\"prediction\").collect())\n",
    "y_true = np.array(predictions.select(\"Label\").collect())\n",
    "\n",
    "# Assuming you have true labels y_true and predicted labels y_pred\n",
    "cm = confusion_matrix(y_true, y_pred)\n",
    "\n",
    "# Plot confusion matrix using heatmap\n",
    "sns.heatmap(cm, annot=True, fmt='g')\n",
    "plt.xlabel('Predicted')\n",
    "plt.ylabel('True')\n",
    "plt.title('Confusion Matrix')\n",
    "plt.show()\n",
    "\n",
    "# Calculate AUC\n",
    "auc = evaluator.evaluate(predictions)\n",
    "\n",
    "print(f\"AUC: {auc}\")\n"
   ]
  },
  {
   "cell_type": "code",
   "execution_count": null,
   "id": "0e17fa88",
   "metadata": {},
   "outputs": [],
   "source": []
  }
 ],
 "metadata": {
  "kernelspec": {
   "display_name": "Python 3 (ipykernel)",
   "language": "python",
   "name": "python3"
  },
  "language_info": {
   "codemirror_mode": {
    "name": "ipython",
    "version": 3
   },
   "file_extension": ".py",
   "mimetype": "text/x-python",
   "name": "python",
   "nbconvert_exporter": "python",
   "pygments_lexer": "ipython3",
   "version": "3.10.6"
  }
 },
 "nbformat": 4,
 "nbformat_minor": 5
}
